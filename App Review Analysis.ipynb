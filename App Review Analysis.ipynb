{
 "cells": [
  {
   "cell_type": "markdown",
   "metadata": {},
   "source": [
    "### Importing Libraries"
   ]
  },
  {
   "cell_type": "code",
   "execution_count": 1,
   "metadata": {},
   "outputs": [],
   "source": [
    "## Package that helps extract raw reviews and other info from the app store\n",
    "from app_store_scraper import AppStore"
   ]
  },
  {
   "cell_type": "code",
   "execution_count": 2,
   "metadata": {},
   "outputs": [],
   "source": [
    "import matplotlib.pyplot as plt"
   ]
  },
  {
   "cell_type": "code",
   "execution_count": 3,
   "metadata": {},
   "outputs": [],
   "source": [
    "import pandas as pd\n",
    "import numpy as np"
   ]
  },
  {
   "cell_type": "code",
   "execution_count": 4,
   "metadata": {},
   "outputs": [],
   "source": [
    "from nltk.tokenize import RegexpTokenizer\n",
    "from nltk.corpus import stopwords\n",
    "from nltk.stem.porter import PorterStemmer\n",
    "from nltk.stem import WordNetLemmatizer"
   ]
  },
  {
   "cell_type": "code",
   "execution_count": 5,
   "metadata": {},
   "outputs": [],
   "source": [
    "from sklearn.feature_extraction.text import CountVectorizer"
   ]
  },
  {
   "cell_type": "code",
   "execution_count": 6,
   "metadata": {},
   "outputs": [],
   "source": [
    "from gensim import corpora\n",
    "from gensim.models import LsiModel\n",
    "from gensim.models.coherencemodel import CoherenceModel"
   ]
  },
  {
   "cell_type": "code",
   "execution_count": 7,
   "metadata": {},
   "outputs": [],
   "source": [
    "## For pretty print\n",
    "from pprint import pprint"
   ]
  },
  {
   "cell_type": "markdown",
   "metadata": {},
   "source": [
    "### Extracting reviews"
   ]
  },
  {
   "cell_type": "code",
   "execution_count": 8,
   "metadata": {},
   "outputs": [
    {
     "name": "stderr",
     "output_type": "stream",
     "text": [
      "2020-11-04 22:06:10,784 [INFO] Base - Searching for app id\n",
      "2020-11-04 22:06:13,912 [INFO] Base - Initialised: AppStore('us', 'among-us', 1351168404)\n",
      "2020-11-04 22:06:13,912 [INFO] Base - Ready to fetch reviews from: https://apps.apple.com/us/app/among-us/id1351168404\n"
     ]
    },
    {
     "name": "stdout",
     "output_type": "stream",
     "text": [
      "     Country | us\n",
      "        Name | among-us\n",
      "          ID | 1351168404\n",
      "         URL | https://apps.apple.com/us/app/among-us/id1351168404\n",
      "Review count | 0\n"
     ]
    }
   ],
   "source": [
    "among_us = AppStore(country=\"us\", app_name=\"Among Us\")\n",
    "print(among_us)"
   ]
  },
  {
   "cell_type": "code",
   "execution_count": 9,
   "metadata": {},
   "outputs": [
    {
     "name": "stderr",
     "output_type": "stream",
     "text": [
      "2020-11-04 22:06:19,067 [INFO] Base - [id:1351168404] Fetched 380 reviews (380 fetched in total)\n",
      "2020-11-04 22:06:24,419 [INFO] Base - [id:1351168404] Fetched 860 reviews (860 fetched in total)\n",
      "2020-11-04 22:06:29,769 [INFO] Base - [id:1351168404] Fetched 1280 reviews (1280 fetched in total)\n",
      "2020-11-04 22:06:35,247 [INFO] Base - [id:1351168404] Fetched 1720 reviews (1720 fetched in total)\n",
      "2020-11-04 22:06:38,489 [INFO] Base - [id:1351168404] Fetched 2000 reviews (2000 fetched in total)\n"
     ]
    },
    {
     "data": {
      "text/plain": [
       "2000"
      ]
     },
     "execution_count": 9,
     "metadata": {},
     "output_type": "execute_result"
    }
   ],
   "source": [
    "among_us.review(how_many=2000)\n",
    "among_us.reviews_count"
   ]
  },
  {
   "cell_type": "code",
   "execution_count": 10,
   "metadata": {},
   "outputs": [
    {
     "data": {
      "text/plain": [
       "{'isEdited': False,\n",
       " 'title': 'Love it but some problems',\n",
       " 'rating': 4,\n",
       " 'userName': 'GachaJayda',\n",
       " 'review': 'So, I’ve been playing this game for months now and it’s very addicting and fun to play! I enjoy playing this with my friends, we all have a good time! Although you don’t know people you play with in random servers it’s fun playing with them to. So like I was explaining how the game is a fun experience there is also some issues I have with it. One being the hackers (you probably did something about that already, my bad if you already did) and lots and of glitches. I always get kicked out of the game due to an error or some weird glitch. I also have a problem with some of the people in the game treat it as if it’s tinder and flirt with people in the game. I know there’s probably no fixing that but it kinda gets annoying being for them to be like that. Also, I think you should make like a friend thing where like you can befriend people in the game and they can send you ( or you send them) friend request and when either of you accept then you can chat with them and join the same game as them so you don’t have to go through like hundreds of other servers to see them again. And for the last, it would be nice to add Charles to the stickmin bundle (this isn’t really a problem but it would be cool to have him in UwU💞). Overall that is all I have to say about the game, thank you for making this terrific game for family’s around the world. Have a nice day 💞💖💖🥰.',\n",
       " 'date': datetime.datetime(2020, 10, 30, 17, 32, 15)}"
      ]
     },
     "execution_count": 10,
     "metadata": {},
     "output_type": "execute_result"
    }
   ],
   "source": [
    "#to see structure of each review\n",
    "among_us.reviews[0]"
   ]
  },
  {
   "cell_type": "code",
   "execution_count": 11,
   "metadata": {},
   "outputs": [],
   "source": [
    "review_dict={}\n",
    "\n",
    "## Creating dictionary to store username: review\n",
    "for review in among_us.reviews:\n",
    "    userName = review['userName']\n",
    "    comments = review['review']\n",
    "    review_dict.update({userName:comments})"
   ]
  },
  {
   "cell_type": "code",
   "execution_count": 12,
   "metadata": {},
   "outputs": [
    {
     "data": {
      "text/plain": [
       "1999"
      ]
     },
     "execution_count": 12,
     "metadata": {},
     "output_type": "execute_result"
    }
   ],
   "source": [
    "## confirming number of reviews extracted\n",
    "len(review_dict)"
   ]
  },
  {
   "cell_type": "markdown",
   "metadata": {},
   "source": [
    "## Checking ratings"
   ]
  },
  {
   "cell_type": "code",
   "execution_count": 13,
   "metadata": {},
   "outputs": [],
   "source": [
    "ratings_dict={}\n",
    "\n",
    "## Creating dictionary to store username: review\n",
    "for review in among_us.reviews:\n",
    "    rating = review['rating']\n",
    "    if rating not in ratings_dict:\n",
    "        ratings_dict[rating] = 1\n",
    "    else:\n",
    "        ratings_dict[rating] += 1"
   ]
  },
  {
   "cell_type": "code",
   "execution_count": 14,
   "metadata": {},
   "outputs": [
    {
     "data": {
      "image/png": "[encoded data removed]",
      "text/plain": [
       "<Figure size 432x288 with 1 Axes>"
      ]
     },
     "metadata": {
      "needs_background": "light"
     },
     "output_type": "display_data"
    }
   ],
   "source": [
    "plt.bar(*zip(*ratings_dict.items()))\n",
    "plt.show()"
   ]
  },
  {
   "cell_type": "markdown",
   "metadata": {},
   "source": [
    "### Creating list of good and bad reviews"
   ]
  },
  {
   "cell_type": "code",
   "execution_count": 15,
   "metadata": {},
   "outputs": [],
   "source": [
    "good_reviews = []\n",
    "bad_reviews = []\n",
    "\n",
    "for review in among_us.reviews:\n",
    "    rating = review['rating']\n",
    "    userName = review['userName']\n",
    "    if rating > 3 :\n",
    "        good_reviews.append(review_dict[userName])\n",
    "    else:\n",
    "        bad_reviews.append(review_dict[userName])"
   ]
  },
  {
   "cell_type": "code",
   "execution_count": 16,
   "metadata": {},
   "outputs": [
    {
     "data": {
      "text/plain": [
       "1637"
      ]
     },
     "execution_count": 16,
     "metadata": {},
     "output_type": "execute_result"
    }
   ],
   "source": [
    "len(good_reviews)"
   ]
  },
  {
   "cell_type": "code",
   "execution_count": 17,
   "metadata": {},
   "outputs": [
    {
     "data": {
      "text/plain": [
       "363"
      ]
     },
     "execution_count": 17,
     "metadata": {},
     "output_type": "execute_result"
    }
   ],
   "source": [
    "len(bad_reviews)"
   ]
  },
  {
   "cell_type": "markdown",
   "metadata": {},
   "source": [
    "## Frequently used keywords"
   ]
  },
  {
   "cell_type": "code",
   "execution_count": 18,
   "metadata": {},
   "outputs": [],
   "source": [
    "### Preprocessing functions to clean the documents\n",
    "\n",
    "def preprocess_data(doc_set):\n",
    "    # initialize regex tokenizer\n",
    "    tokenizer = RegexpTokenizer(r'\\w+')\n",
    "    # create English stop words list\n",
    "    en_stop = set(stopwords.words('english'))\n",
    "    # Create p_stemmer of class PorterStemmer\n",
    "    p_stemmer = PorterStemmer()\n",
    "    # list for tokenized documents in loop\n",
    "    sentences = []\n",
    "    # loop through document list\n",
    "    for i in doc_set:\n",
    "        # clean and tokenize document string\n",
    "        raw = i.lower()\n",
    "        tokens = tokenizer.tokenize(raw)\n",
    "        # remove stop words from tokens\n",
    "        stopped_tokens = [i for i in tokens if not i in en_stop]\n",
    "        # stem tokens\n",
    "        stemmed_tokens = [p_stemmer.stem(i) for i in stopped_tokens]\n",
    "        #creating a sentence of cleaned tokens\n",
    "        sentence = ' '.join(stemmed_tokens)\n",
    "        # add tokens to list\n",
    "        sentences.append(sentence)\n",
    "    return sentences"
   ]
  },
  {
   "cell_type": "code",
   "execution_count": 19,
   "metadata": {},
   "outputs": [],
   "source": [
    "### Function to extract most popular keywords, bigrams or trigrams\n",
    "\"\"\" \n",
    "n should provide the ngram_range => for a bigram n =2; for a trigram n=3; for top words, n=1; default =1\n",
    "m should provide the number of such terms to be returned. default=10\n",
    "\"\"\"\n",
    "def get_top_m_words_of_n_grams(corpus,m=10, n=1):\n",
    "    vec = CountVectorizer(ngram_range=(n, n)).fit(corpus)\n",
    "    bag_of_words = vec.transform(corpus)\n",
    "    sum_words = bag_of_words.sum(axis=0) \n",
    "    words_freq = [(word, sum_words[0, idx]) for word, idx in     vec.vocabulary_.items()]\n",
    "    words_freq =sorted(words_freq, key = lambda x: x[1], reverse=True)\n",
    "    return words_freq[:m]"
   ]
  },
  {
   "cell_type": "code",
   "execution_count": 20,
   "metadata": {},
   "outputs": [],
   "source": [
    "## Getting a clean version of the reviews\n",
    "# For the good reviews\n",
    "good_reviews_clean = preprocess_data(good_reviews)\n",
    "# For the bad reviews\n",
    "bad_reviews_clean = preprocess_data(bad_reviews)"
   ]
  },
  {
   "cell_type": "markdown",
   "metadata": {},
   "source": [
    "### For good reviews"
   ]
  },
  {
   "cell_type": "code",
   "execution_count": 21,
   "metadata": {},
   "outputs": [
    {
     "name": "stdout",
     "output_type": "stream",
     "text": [
      "Top 20 keywords and count\n",
      "[('game', 6157),\n",
      " ('play', 2458),\n",
      " ('like', 1869),\n",
      " ('peopl', 1823),\n",
      " ('would', 1575),\n",
      " ('get', 1465),\n",
      " ('friend', 1412),\n",
      " ('impost', 1223),\n",
      " ('love', 1172),\n",
      " ('realli', 1145),\n",
      " ('fun', 1121),\n",
      " ('make', 1109),\n",
      " ('one', 988),\n",
      " ('also', 946),\n",
      " ('thing', 897),\n",
      " ('time', 883),\n",
      " ('say', 843),\n",
      " ('think', 821),\n",
      " ('could', 810),\n",
      " ('us', 800)]\n"
     ]
    }
   ],
   "source": [
    "print(\"Top 20 keywords and count\")\n",
    "pprint(get_top_m_words_of_n_grams(good_reviews_clean,20))"
   ]
  },
  {
   "cell_type": "code",
   "execution_count": 22,
   "metadata": {},
   "outputs": [
    {
     "name": "stdout",
     "output_type": "stream",
     "text": [
      "Top 20 bigrams and count\n",
      "[('among us', 673),\n",
      " ('love game', 549),\n",
      " ('play game', 340),\n",
      " ('great game', 254),\n",
      " ('play friend', 213),\n",
      " ('game play', 210),\n",
      " ('crew mate', 195),\n",
      " ('add friend', 194),\n",
      " ('make game', 177),\n",
      " ('game fun', 173),\n",
      " ('realli fun', 152),\n",
      " ('game realli', 150),\n",
      " ('join game', 139),\n",
      " ('fun play', 137),\n",
      " ('would like', 135),\n",
      " ('game amaz', 127),\n",
      " ('game great', 124),\n",
      " ('pleas fix', 120),\n",
      " ('like game', 115),\n",
      " ('good game', 113)]\n"
     ]
    }
   ],
   "source": [
    "print(\"Top 20 bigrams and count\")\n",
    "pprint(get_top_m_words_of_n_grams(good_reviews_clean,20,2))"
   ]
  },
  {
   "cell_type": "code",
   "execution_count": 23,
   "metadata": {},
   "outputs": [
    {
     "name": "stdout",
     "output_type": "stream",
     "text": [
      "Top 20 trigrams and count\n",
      "[('play among us', 91),\n",
      " ('love game much', 68),\n",
      " ('absolut love game', 59),\n",
      " ('game realli fun', 53),\n",
      " ('best game ever', 52),\n",
      " ('love among us', 51),\n",
      " ('keep good work', 40),\n",
      " ('realli love game', 40),\n",
      " ('among us great', 38),\n",
      " ('would make game', 35),\n",
      " ('call emerg meet', 35),\n",
      " ('game ever play', 35),\n",
      " ('game play friend', 34),\n",
      " ('fun play friend', 33),\n",
      " ('realli like game', 32),\n",
      " ('love game play', 31),\n",
      " ('game much fun', 30),\n",
      " ('realli good game', 29),\n",
      " ('love game fun', 28),\n",
      " ('would love see', 27)]\n"
     ]
    }
   ],
   "source": [
    "print(\"Top 20 trigrams and count\")\n",
    "pprint(get_top_m_words_of_n_grams(good_reviews_clean,20,3))"
   ]
  },
  {
   "cell_type": "markdown",
   "metadata": {},
   "source": [
    "### For bad reviews"
   ]
  },
  {
   "cell_type": "code",
   "execution_count": 24,
   "metadata": {},
   "outputs": [
    {
     "name": "stdout",
     "output_type": "stream",
     "text": [
      "Top 20 keywords and count\n",
      "[('game', 1678),\n",
      " ('play', 704),\n",
      " ('peopl', 488),\n",
      " ('get', 461),\n",
      " ('like', 337),\n",
      " ('time', 309),\n",
      " ('say', 277),\n",
      " ('impost', 264),\n",
      " ('would', 244),\n",
      " ('realli', 243),\n",
      " ('make', 237),\n",
      " ('fun', 236),\n",
      " ('also', 236),\n",
      " ('fix', 218),\n",
      " ('one', 215),\n",
      " ('friend', 211),\n",
      " ('server', 197),\n",
      " ('thing', 195),\n",
      " ('tri', 191),\n",
      " ('join', 187)]\n"
     ]
    }
   ],
   "source": [
    "print(\"Top 20 keywords and count\")\n",
    "pprint(get_top_m_words_of_n_grams(bad_reviews_clean,20))"
   ]
  },
  {
   "cell_type": "code",
   "execution_count": 25,
   "metadata": {},
   "outputs": [
    {
     "name": "stdout",
     "output_type": "stream",
     "text": [
      "Top 20 bigrams and count\n",
      "[('play game', 130),\n",
      " ('among us', 110),\n",
      " ('love game', 81),\n",
      " ('game play', 59),\n",
      " ('realli fun', 52),\n",
      " ('play friend', 52),\n",
      " ('make game', 49),\n",
      " ('join game', 46),\n",
      " ('everi time', 46),\n",
      " ('pleas fix', 45),\n",
      " ('get kick', 44),\n",
      " ('game fun', 43),\n",
      " ('game realli', 38),\n",
      " ('great game', 38),\n",
      " ('fun game', 38),\n",
      " ('get game', 36),\n",
      " ('tri play', 34),\n",
      " ('leav game', 32),\n",
      " ('want play', 31),\n",
      " ('fun play', 30)]\n"
     ]
    }
   ],
   "source": [
    "print(\"Top 20 bigrams and count\")\n",
    "pprint(get_top_m_words_of_n_grams(bad_reviews_clean,20,2))"
   ]
  },
  {
   "cell_type": "code",
   "execution_count": 26,
   "metadata": {},
   "outputs": [
    {
     "name": "stdout",
     "output_type": "stream",
     "text": [
      "Top 20 trigrams and count\n",
      "[('game realli fun', 21),\n",
      " ('play among us', 18),\n",
      " ('tri play game', 12),\n",
      " ('version among us', 12),\n",
      " ('game play friend', 11),\n",
      " ('old version among', 10),\n",
      " ('realli fun game', 9),\n",
      " ('game super fun', 9),\n",
      " ('everi singl time', 9),\n",
      " ('absolut love game', 8),\n",
      " ('want play game', 8),\n",
      " ('love game play', 7),\n",
      " ('get kick game', 7),\n",
      " ('peopl leav game', 7),\n",
      " ('join anoth game', 7),\n",
      " ('realli love game', 7),\n",
      " ('get disconnect server', 7),\n",
      " ('kick peopl game', 6),\n",
      " ('realli fun play', 6),\n",
      " ('among us great', 6)]\n"
     ]
    }
   ],
   "source": [
    "print(\"Top 20 trigrams and count\")\n",
    "pprint(get_top_m_words_of_n_grams(bad_reviews_clean,20,3))"
   ]
  },
  {
   "cell_type": "markdown",
   "metadata": {},
   "source": [
    "# Topic Modelling"
   ]
  },
  {
   "cell_type": "code",
   "execution_count": 27,
   "metadata": {},
   "outputs": [],
   "source": [
    "## function to tokenize each review doc\n",
    "def split_sentence_to_words(review_list):\n",
    "    tokenizer = RegexpTokenizer(r'\\w+')\n",
    "    words = []\n",
    "    for review in review_list:\n",
    "        tokens = tokenizer.tokenize(review)\n",
    "        words.append(tokens)\n",
    "    return(words)"
   ]
  },
  {
   "cell_type": "code",
   "execution_count": 28,
   "metadata": {},
   "outputs": [],
   "source": [
    "def prepare_corpus(cleaned_documents_list):\n",
    "    \"\"\"\n",
    "    Input  : cleaned documents list\n",
    "    Output : term dictionary and Document Term Matrix\n",
    "    \"\"\"\n",
    "    # Creating the term dictionary of our courpus, where every unique term is assigned an index\n",
    "    dictionary = corpora.Dictionary(cleaned_documents_list)\n",
    "    # Converting list of documents (corpus) into Document Term Matrix using dictionary prepared above.\n",
    "    doc_term_matrix = [dictionary.doc2bow(doc) for doc in cleaned_documents_list]\n",
    "    # generate LDA model\n",
    "    return dictionary,doc_term_matrix"
   ]
  },
  {
   "cell_type": "code",
   "execution_count": 29,
   "metadata": {},
   "outputs": [],
   "source": [
    "def create_gensim_lsa_model(clean_documents_list,number_of_topics,words):\n",
    "    \"\"\"\n",
    "    Input  : clean documents list, number of topics, number of words associated with each topic\n",
    "    Output : LSA model\n",
    "    \"\"\"\n",
    "    dictionary,doc_term_matrix=prepare_corpus(clean_documents_list)\n",
    "    # generate LSA model\n",
    "    lsamodel = LsiModel(doc_term_matrix, num_topics=number_of_topics, id2word = dictionary)  # train model\n",
    "    #print(lsamodel.print_topics(num_topics=number_of_topics, num_words=words))\n",
    "    return lsamodel"
   ]
  },
  {
   "cell_type": "code",
   "execution_count": 30,
   "metadata": {},
   "outputs": [],
   "source": [
    "def compute_coherence_values(term_dictionary, doc_term_matrix, cleaned_documents_list, start, stop, step):\n",
    "    \"\"\"\n",
    "    Input: term_dictionary, doc_term_matrix, cleaned_documents_list, \n",
    "           start(Min. number of topics),\n",
    "           stop(Max. num of topics)\n",
    "           step(Step size when increasing the number of topics) \n",
    "    Output  : coherence_values : Coherence values corresponding to the LDA model with respective number of topics\n",
    "    \"\"\"\n",
    "    coherence_values = []\n",
    "    model_list = []\n",
    "    for number_of_topics in range(start, stop, step):\n",
    "        # generate LSA model\n",
    "        model = LsiModel(doc_term_matrix, num_topics=number_of_topics, id2word = term_dictionary)  # train model\n",
    "        model_list.append(model)\n",
    "        coherencemodel = CoherenceModel(model=model, texts=cleaned_documents_list, \n",
    "                                        dictionary=term_dictionary, coherence='c_v')\n",
    "        coherence_values.append(coherencemodel.get_coherence())\n",
    "    return coherence_values"
   ]
  },
  {
   "cell_type": "code",
   "execution_count": 31,
   "metadata": {},
   "outputs": [],
   "source": [
    "def plot_graph(coherence_values,start, stop, step):\n",
    "    # Show graph\n",
    "    x = range(start, stop, step)\n",
    "    plt.plot(x, coherence_values)\n",
    "    plt.xlabel(\"Number of Topics\")\n",
    "    plt.ylabel(\"Coherence score\")\n",
    "    plt.legend((\"coherence_values\"), loc='best')\n",
    "    plt.show()\n",
    "    return"
   ]
  },
  {
   "cell_type": "markdown",
   "metadata": {},
   "source": [
    "### For good reviews"
   ]
  },
  {
   "cell_type": "code",
   "execution_count": 38,
   "metadata": {},
   "outputs": [
    {
     "name": "stderr",
     "output_type": "stream",
     "text": [
      "2020-11-04 22:34:23,097 [INFO] gensim.corpora.dictionary - adding document #0 to Dictionary(0 unique tokens: [])\n",
      "2020-11-04 22:34:23,413 [INFO] gensim.corpora.dictionary - built Dictionary(4239 unique tokens: ['accept', 'add', 'addict', 'alreadi', 'also']...) from 1637 documents (total 107514 corpus positions)\n",
      "2020-11-04 22:34:23,548 [INFO] gensim.models.lsimodel - using serial LSI version on this node\n",
      "2020-11-04 22:34:23,548 [INFO] gensim.models.lsimodel - updating model with new documents\n",
      "2020-11-04 22:34:23,556 [INFO] gensim.models.lsimodel - preparing a new chunk of documents\n",
      "2020-11-04 22:34:23,576 [INFO] gensim.models.lsimodel - using 100 extra samples and 2 power iterations\n",
      "2020-11-04 22:34:23,576 [INFO] gensim.models.lsimodel - 1st phase: constructing (4239, 102) action matrix\n",
      "2020-11-04 22:34:23,623 [INFO] gensim.models.lsimodel - orthonormalizing (4239, 102) action matrix\n",
      "2020-11-04 22:34:23,739 [INFO] gensim.models.lsimodel - 2nd phase: running dense svd on (102, 1637) matrix\n",
      "2020-11-04 22:34:23,777 [INFO] gensim.models.lsimodel - computing the final decomposition\n",
      "2020-11-04 22:34:23,777 [INFO] gensim.models.lsimodel - keeping 2 factors (discarding 55.818% of energy spectrum)\n",
      "2020-11-04 22:34:23,777 [INFO] gensim.models.lsimodel - processed documents up to #1637\n",
      "2020-11-04 22:34:23,777 [INFO] gensim.models.lsimodel - topic #0(244.371): -0.691*\"game\" + -0.266*\"play\" + -0.202*\"like\" + -0.198*\"peopl\" + -0.167*\"would\" + -0.152*\"friend\" + -0.150*\"get\" + -0.125*\"love\" + -0.123*\"realli\" + -0.122*\"impost\"\n",
      "2020-11-04 22:34:23,777 [INFO] gensim.models.lsimodel - topic #1(77.004): -0.568*\"game\" + 0.391*\"would\" + 0.373*\"like\" + 0.189*\"friend\" + 0.188*\"could\" + 0.175*\"add\" + 0.165*\"peopl\" + 0.147*\"impost\" + 0.143*\"think\" + 0.135*\"make\"\n",
      "2020-11-04 22:34:23,792 [INFO] gensim.topic_coherence.probability_estimation - using ParallelWordOccurrenceAccumulator(processes=7, batch_size=64) to estimate probabilities from sliding windows\n",
      "2020-11-04 22:34:31,925 [INFO] gensim.topic_coherence.text_analysis - 1 batches submitted to accumulate stats from 64 documents (318 virtual)\n",
      "2020-11-04 22:34:32,051 [INFO] gensim.topic_coherence.text_analysis - 7 accumulators retrieved from output queue\n",
      "2020-11-04 22:34:32,082 [INFO] gensim.topic_coherence.text_analysis - accumulated word occurrence stats for 2535 virtual documents\n",
      "2020-11-04 22:34:32,198 [INFO] gensim.models.lsimodel - using serial LSI version on this node\n",
      "2020-11-04 22:34:32,198 [INFO] gensim.models.lsimodel - updating model with new documents\n",
      "2020-11-04 22:34:32,198 [INFO] gensim.models.lsimodel - preparing a new chunk of documents\n",
      "2020-11-04 22:34:32,235 [INFO] gensim.models.lsimodel - using 100 extra samples and 2 power iterations\n",
      "2020-11-04 22:34:32,235 [INFO] gensim.models.lsimodel - 1st phase: constructing (4239, 103) action matrix\n",
      "2020-11-04 22:34:32,251 [INFO] gensim.models.lsimodel - orthonormalizing (4239, 103) action matrix\n",
      "2020-11-04 22:34:32,367 [INFO] gensim.models.lsimodel - 2nd phase: running dense svd on (103, 1637) matrix\n",
      "2020-11-04 22:34:32,383 [INFO] gensim.models.lsimodel - computing the final decomposition\n",
      "2020-11-04 22:34:32,383 [INFO] gensim.models.lsimodel - keeping 3 factors (discarding 53.050% of energy spectrum)\n",
      "2020-11-04 22:34:32,383 [INFO] gensim.models.lsimodel - processed documents up to #1637\n",
      "2020-11-04 22:34:32,398 [INFO] gensim.models.lsimodel - topic #0(244.371): -0.691*\"game\" + -0.266*\"play\" + -0.202*\"like\" + -0.198*\"peopl\" + -0.167*\"would\" + -0.152*\"friend\" + -0.150*\"get\" + -0.125*\"love\" + -0.123*\"realli\" + -0.122*\"impost\"\n",
      "2020-11-04 22:34:32,398 [INFO] gensim.models.lsimodel - topic #1(77.004): 0.568*\"game\" + -0.391*\"would\" + -0.373*\"like\" + -0.189*\"friend\" + -0.188*\"could\" + -0.175*\"add\" + -0.165*\"peopl\" + -0.147*\"impost\" + -0.143*\"think\" + -0.135*\"make\"\n",
      "2020-11-04 22:34:32,398 [INFO] gensim.models.lsimodel - topic #2(65.394): 0.630*\"impost\" + -0.442*\"friend\" + 0.253*\"get\" + -0.252*\"play\" + 0.222*\"kill\" + -0.162*\"would\" + 0.141*\"task\" + -0.122*\"add\" + 0.103*\"like\" + 0.099*\"crew\"\n",
      "2020-11-04 22:34:32,398 [INFO] gensim.topic_coherence.probability_estimation - using ParallelWordOccurrenceAccumulator(processes=7, batch_size=64) to estimate probabilities from sliding windows\n",
      "2020-11-04 22:34:39,974 [INFO] gensim.topic_coherence.text_analysis - 1 batches submitted to accumulate stats from 64 documents (318 virtual)\n",
      "2020-11-04 22:34:40,191 [INFO] gensim.topic_coherence.text_analysis - 7 accumulators retrieved from output queue\n",
      "2020-11-04 22:34:40,222 [INFO] gensim.topic_coherence.text_analysis - accumulated word occurrence stats for 2539 virtual documents\n",
      "2020-11-04 22:34:40,384 [INFO] gensim.models.lsimodel - using serial LSI version on this node\n",
      "2020-11-04 22:34:40,384 [INFO] gensim.models.lsimodel - updating model with new documents\n",
      "2020-11-04 22:34:40,384 [INFO] gensim.models.lsimodel - preparing a new chunk of documents\n",
      "2020-11-04 22:34:40,417 [INFO] gensim.models.lsimodel - using 100 extra samples and 2 power iterations\n",
      "2020-11-04 22:34:40,417 [INFO] gensim.models.lsimodel - 1st phase: constructing (4239, 104) action matrix\n",
      "2020-11-04 22:34:40,433 [INFO] gensim.models.lsimodel - orthonormalizing (4239, 104) action matrix\n",
      "2020-11-04 22:34:40,549 [INFO] gensim.models.lsimodel - 2nd phase: running dense svd on (104, 1637) matrix\n",
      "2020-11-04 22:34:40,580 [INFO] gensim.models.lsimodel - computing the final decomposition\n",
      "2020-11-04 22:34:40,580 [INFO] gensim.models.lsimodel - keeping 4 factors (discarding 50.640% of energy spectrum)\n",
      "2020-11-04 22:34:40,580 [INFO] gensim.models.lsimodel - processed documents up to #1637\n",
      "2020-11-04 22:34:40,580 [INFO] gensim.models.lsimodel - topic #0(244.371): -0.691*\"game\" + -0.266*\"play\" + -0.202*\"like\" + -0.198*\"peopl\" + -0.167*\"would\" + -0.152*\"friend\" + -0.150*\"get\" + -0.125*\"love\" + -0.123*\"realli\" + -0.122*\"impost\"\n",
      "2020-11-04 22:34:40,580 [INFO] gensim.models.lsimodel - topic #1(77.004): -0.568*\"game\" + 0.391*\"would\" + 0.373*\"like\" + 0.189*\"friend\" + 0.188*\"could\" + 0.175*\"add\" + 0.165*\"peopl\" + 0.147*\"impost\" + 0.143*\"think\" + 0.135*\"make\"\n",
      "2020-11-04 22:34:40,580 [INFO] gensim.models.lsimodel - topic #2(65.394): -0.630*\"impost\" + 0.442*\"friend\" + -0.253*\"get\" + 0.252*\"play\" + -0.222*\"kill\" + 0.163*\"would\" + -0.141*\"task\" + 0.122*\"add\" + -0.103*\"like\" + -0.099*\"crew\"\n",
      "2020-11-04 22:34:40,596 [INFO] gensim.models.lsimodel - topic #3(61.113): 0.633*\"play\" + -0.359*\"would\" + -0.341*\"game\" + 0.303*\"peopl\" + -0.181*\"like\" + 0.173*\"get\" + 0.160*\"impost\" + -0.118*\"could\" + 0.115*\"friend\" + 0.108*\"time\"\n",
      "2020-11-04 22:34:40,596 [INFO] gensim.topic_coherence.probability_estimation - using ParallelWordOccurrenceAccumulator(processes=7, batch_size=64) to estimate probabilities from sliding windows\n",
      "2020-11-04 22:34:48,214 [INFO] gensim.topic_coherence.text_analysis - 1 batches submitted to accumulate stats from 64 documents (318 virtual)\n",
      "2020-11-04 22:34:48,520 [INFO] gensim.topic_coherence.text_analysis - 7 accumulators retrieved from output queue\n",
      "2020-11-04 22:34:48,553 [INFO] gensim.topic_coherence.text_analysis - accumulated word occurrence stats for 2539 virtual documents\n",
      "2020-11-04 22:34:48,745 [INFO] gensim.models.lsimodel - using serial LSI version on this node\n",
      "2020-11-04 22:34:48,745 [INFO] gensim.models.lsimodel - updating model with new documents\n",
      "2020-11-04 22:34:48,745 [INFO] gensim.models.lsimodel - preparing a new chunk of documents\n",
      "2020-11-04 22:34:48,766 [INFO] gensim.models.lsimodel - using 100 extra samples and 2 power iterations\n",
      "2020-11-04 22:34:48,774 [INFO] gensim.models.lsimodel - 1st phase: constructing (4239, 105) action matrix\n",
      "2020-11-04 22:34:48,784 [INFO] gensim.models.lsimodel - orthonormalizing (4239, 105) action matrix\n",
      "2020-11-04 22:34:48,915 [INFO] gensim.models.lsimodel - 2nd phase: running dense svd on (105, 1637) matrix\n",
      "2020-11-04 22:34:48,931 [INFO] gensim.models.lsimodel - computing the final decomposition\n",
      "2020-11-04 22:34:48,931 [INFO] gensim.models.lsimodel - keeping 5 factors (discarding 48.635% of energy spectrum)\n",
      "2020-11-04 22:34:48,946 [INFO] gensim.models.lsimodel - processed documents up to #1637\n",
      "2020-11-04 22:34:48,946 [INFO] gensim.models.lsimodel - topic #0(244.371): -0.691*\"game\" + -0.266*\"play\" + -0.202*\"like\" + -0.198*\"peopl\" + -0.167*\"would\" + -0.152*\"friend\" + -0.150*\"get\" + -0.125*\"love\" + -0.123*\"realli\" + -0.122*\"impost\"\n"
     ]
    },
    {
     "name": "stderr",
     "output_type": "stream",
     "text": [
      "2020-11-04 22:34:48,946 [INFO] gensim.models.lsimodel - topic #1(77.004): -0.568*\"game\" + 0.391*\"would\" + 0.373*\"like\" + 0.189*\"friend\" + 0.188*\"could\" + 0.175*\"add\" + 0.165*\"peopl\" + 0.147*\"impost\" + 0.143*\"think\" + 0.135*\"make\"\n",
      "2020-11-04 22:34:48,946 [INFO] gensim.models.lsimodel - topic #2(65.394): -0.630*\"impost\" + 0.442*\"friend\" + -0.253*\"get\" + 0.252*\"play\" + -0.222*\"kill\" + 0.163*\"would\" + -0.141*\"task\" + 0.122*\"add\" + -0.103*\"like\" + -0.099*\"crew\"\n",
      "2020-11-04 22:34:48,946 [INFO] gensim.models.lsimodel - topic #3(61.113): 0.633*\"play\" + -0.359*\"would\" + -0.341*\"game\" + 0.303*\"peopl\" + -0.181*\"like\" + 0.173*\"get\" + 0.160*\"impost\" + -0.118*\"could\" + 0.115*\"friend\" + 0.108*\"time\"\n",
      "2020-11-04 22:34:48,946 [INFO] gensim.models.lsimodel - topic #4(56.323): 0.499*\"peopl\" + -0.385*\"play\" + -0.288*\"impost\" + 0.253*\"say\" + -0.197*\"friend\" + 0.190*\"server\" + 0.158*\"join\" + -0.147*\"would\" + 0.142*\"pleas\" + 0.134*\"fix\"\n",
      "2020-11-04 22:34:48,962 [INFO] gensim.topic_coherence.probability_estimation - using ParallelWordOccurrenceAccumulator(processes=7, batch_size=64) to estimate probabilities from sliding windows\n",
      "2020-11-04 22:34:56,711 [INFO] gensim.topic_coherence.text_analysis - 1 batches submitted to accumulate stats from 64 documents (318 virtual)\n",
      "2020-11-04 22:34:57,233 [INFO] gensim.topic_coherence.text_analysis - 7 accumulators retrieved from output queue\n",
      "2020-11-04 22:34:57,272 [INFO] gensim.topic_coherence.text_analysis - accumulated word occurrence stats for 2539 virtual documents\n",
      "2020-11-04 22:34:57,567 [INFO] gensim.models.lsimodel - using serial LSI version on this node\n",
      "2020-11-04 22:34:57,567 [INFO] gensim.models.lsimodel - updating model with new documents\n",
      "2020-11-04 22:34:57,567 [INFO] gensim.models.lsimodel - preparing a new chunk of documents\n",
      "2020-11-04 22:34:57,617 [INFO] gensim.models.lsimodel - using 100 extra samples and 2 power iterations\n",
      "2020-11-04 22:34:57,626 [INFO] gensim.models.lsimodel - 1st phase: constructing (4239, 106) action matrix\n",
      "2020-11-04 22:34:57,651 [INFO] gensim.models.lsimodel - orthonormalizing (4239, 106) action matrix\n",
      "2020-11-04 22:34:57,798 [INFO] gensim.models.lsimodel - 2nd phase: running dense svd on (106, 1637) matrix\n",
      "2020-11-04 22:34:57,836 [INFO] gensim.models.lsimodel - computing the final decomposition\n",
      "2020-11-04 22:34:57,836 [INFO] gensim.models.lsimodel - keeping 6 factors (discarding 46.734% of energy spectrum)\n",
      "2020-11-04 22:34:57,836 [INFO] gensim.models.lsimodel - processed documents up to #1637\n",
      "2020-11-04 22:34:57,836 [INFO] gensim.models.lsimodel - topic #0(244.371): -0.691*\"game\" + -0.266*\"play\" + -0.202*\"like\" + -0.198*\"peopl\" + -0.167*\"would\" + -0.152*\"friend\" + -0.150*\"get\" + -0.125*\"love\" + -0.123*\"realli\" + -0.122*\"impost\"\n",
      "2020-11-04 22:34:57,836 [INFO] gensim.models.lsimodel - topic #1(77.004): -0.568*\"game\" + 0.391*\"would\" + 0.373*\"like\" + 0.189*\"friend\" + 0.188*\"could\" + 0.175*\"add\" + 0.165*\"peopl\" + 0.147*\"impost\" + 0.143*\"think\" + 0.135*\"make\"\n",
      "2020-11-04 22:34:57,836 [INFO] gensim.models.lsimodel - topic #2(65.394): -0.631*\"impost\" + 0.442*\"friend\" + -0.253*\"get\" + 0.252*\"play\" + -0.222*\"kill\" + 0.163*\"would\" + -0.141*\"task\" + 0.122*\"add\" + -0.103*\"like\" + -0.099*\"crew\"\n",
      "2020-11-04 22:34:57,836 [INFO] gensim.models.lsimodel - topic #3(61.113): 0.633*\"play\" + -0.359*\"would\" + -0.341*\"game\" + 0.303*\"peopl\" + -0.181*\"like\" + 0.173*\"get\" + 0.160*\"impost\" + -0.118*\"could\" + 0.114*\"friend\" + 0.108*\"time\"\n",
      "2020-11-04 22:34:57,852 [INFO] gensim.models.lsimodel - topic #4(56.323): 0.499*\"peopl\" + -0.385*\"play\" + -0.288*\"impost\" + 0.253*\"say\" + -0.197*\"friend\" + 0.190*\"server\" + 0.157*\"join\" + -0.147*\"would\" + 0.142*\"pleas\" + 0.133*\"fix\"\n",
      "2020-11-04 22:34:57,852 [INFO] gensim.topic_coherence.probability_estimation - using ParallelWordOccurrenceAccumulator(processes=7, batch_size=64) to estimate probabilities from sliding windows\n",
      "2020-11-04 22:35:05,139 [INFO] gensim.topic_coherence.text_analysis - 1 batches submitted to accumulate stats from 64 documents (318 virtual)\n",
      "2020-11-04 22:35:05,496 [INFO] gensim.topic_coherence.text_analysis - 7 accumulators retrieved from output queue\n",
      "2020-11-04 22:35:05,537 [INFO] gensim.topic_coherence.text_analysis - accumulated word occurrence stats for 2539 virtual documents\n",
      "2020-11-04 22:35:05,840 [INFO] gensim.models.lsimodel - using serial LSI version on this node\n",
      "2020-11-04 22:35:05,840 [INFO] gensim.models.lsimodel - updating model with new documents\n",
      "2020-11-04 22:35:05,840 [INFO] gensim.models.lsimodel - preparing a new chunk of documents\n",
      "2020-11-04 22:35:05,881 [INFO] gensim.models.lsimodel - using 100 extra samples and 2 power iterations\n",
      "2020-11-04 22:35:05,881 [INFO] gensim.models.lsimodel - 1st phase: constructing (4239, 107) action matrix\n",
      "2020-11-04 22:35:05,899 [INFO] gensim.models.lsimodel - orthonormalizing (4239, 107) action matrix\n",
      "2020-11-04 22:35:06,062 [INFO] gensim.models.lsimodel - 2nd phase: running dense svd on (107, 1637) matrix\n",
      "2020-11-04 22:35:06,093 [INFO] gensim.models.lsimodel - computing the final decomposition\n",
      "2020-11-04 22:35:06,093 [INFO] gensim.models.lsimodel - keeping 7 factors (discarding 45.033% of energy spectrum)\n",
      "2020-11-04 22:35:06,100 [INFO] gensim.models.lsimodel - processed documents up to #1637\n",
      "2020-11-04 22:35:06,100 [INFO] gensim.models.lsimodel - topic #0(244.371): -0.691*\"game\" + -0.266*\"play\" + -0.202*\"like\" + -0.198*\"peopl\" + -0.167*\"would\" + -0.152*\"friend\" + -0.150*\"get\" + -0.125*\"love\" + -0.123*\"realli\" + -0.122*\"impost\"\n",
      "2020-11-04 22:35:06,100 [INFO] gensim.models.lsimodel - topic #1(77.004): 0.568*\"game\" + -0.391*\"would\" + -0.373*\"like\" + -0.189*\"friend\" + -0.188*\"could\" + -0.175*\"add\" + -0.165*\"peopl\" + -0.147*\"impost\" + -0.143*\"think\" + -0.135*\"make\"\n",
      "2020-11-04 22:35:06,100 [INFO] gensim.models.lsimodel - topic #2(65.394): 0.630*\"impost\" + -0.442*\"friend\" + 0.253*\"get\" + -0.252*\"play\" + 0.222*\"kill\" + -0.162*\"would\" + 0.141*\"task\" + -0.122*\"add\" + 0.103*\"like\" + 0.099*\"crew\"\n",
      "2020-11-04 22:35:06,100 [INFO] gensim.models.lsimodel - topic #3(61.113): 0.633*\"play\" + -0.359*\"would\" + -0.341*\"game\" + 0.303*\"peopl\" + -0.181*\"like\" + 0.173*\"get\" + 0.159*\"impost\" + -0.119*\"could\" + 0.114*\"friend\" + 0.108*\"time\"\n",
      "2020-11-04 22:35:06,100 [INFO] gensim.models.lsimodel - topic #4(56.323): 0.499*\"peopl\" + -0.385*\"play\" + -0.288*\"impost\" + 0.253*\"say\" + -0.197*\"friend\" + 0.190*\"server\" + 0.158*\"join\" + -0.147*\"would\" + 0.142*\"pleas\" + 0.133*\"fix\"\n",
      "2020-11-04 22:35:06,115 [INFO] gensim.topic_coherence.probability_estimation - using ParallelWordOccurrenceAccumulator(processes=7, batch_size=64) to estimate probabilities from sliding windows\n",
      "2020-11-04 22:35:13,338 [INFO] gensim.topic_coherence.text_analysis - 1 batches submitted to accumulate stats from 64 documents (318 virtual)\n",
      "2020-11-04 22:35:13,734 [INFO] gensim.topic_coherence.text_analysis - 7 accumulators retrieved from output queue\n",
      "2020-11-04 22:35:13,767 [INFO] gensim.topic_coherence.text_analysis - accumulated word occurrence stats for 2539 virtual documents\n",
      "2020-11-04 22:35:14,121 [INFO] gensim.models.lsimodel - using serial LSI version on this node\n",
      "2020-11-04 22:35:14,121 [INFO] gensim.models.lsimodel - updating model with new documents\n",
      "2020-11-04 22:35:14,129 [INFO] gensim.models.lsimodel - preparing a new chunk of documents\n",
      "2020-11-04 22:35:14,159 [INFO] gensim.models.lsimodel - using 100 extra samples and 2 power iterations\n",
      "2020-11-04 22:35:14,161 [INFO] gensim.models.lsimodel - 1st phase: constructing (4239, 108) action matrix\n",
      "2020-11-04 22:35:14,192 [INFO] gensim.models.lsimodel - orthonormalizing (4239, 108) action matrix\n",
      "2020-11-04 22:35:14,314 [INFO] gensim.models.lsimodel - 2nd phase: running dense svd on (108, 1637) matrix\n",
      "2020-11-04 22:35:14,344 [INFO] gensim.models.lsimodel - computing the final decomposition\n",
      "2020-11-04 22:35:14,344 [INFO] gensim.models.lsimodel - keeping 8 factors (discarding 43.642% of energy spectrum)\n",
      "2020-11-04 22:35:14,344 [INFO] gensim.models.lsimodel - processed documents up to #1637\n",
      "2020-11-04 22:35:14,344 [INFO] gensim.models.lsimodel - topic #0(244.371): -0.691*\"game\" + -0.266*\"play\" + -0.202*\"like\" + -0.198*\"peopl\" + -0.167*\"would\" + -0.152*\"friend\" + -0.150*\"get\" + -0.125*\"love\" + -0.123*\"realli\" + -0.122*\"impost\"\n",
      "2020-11-04 22:35:14,352 [INFO] gensim.models.lsimodel - topic #1(77.004): -0.568*\"game\" + 0.391*\"would\" + 0.373*\"like\" + 0.189*\"friend\" + 0.188*\"could\" + 0.175*\"add\" + 0.165*\"peopl\" + 0.147*\"impost\" + 0.143*\"think\" + 0.135*\"make\"\n"
     ]
    },
    {
     "name": "stderr",
     "output_type": "stream",
     "text": [
      "2020-11-04 22:35:14,352 [INFO] gensim.models.lsimodel - topic #2(65.394): -0.630*\"impost\" + 0.442*\"friend\" + -0.253*\"get\" + 0.252*\"play\" + -0.222*\"kill\" + 0.163*\"would\" + -0.141*\"task\" + 0.122*\"add\" + -0.103*\"like\" + -0.099*\"crew\"\n",
      "2020-11-04 22:35:14,352 [INFO] gensim.models.lsimodel - topic #3(61.113): -0.633*\"play\" + 0.359*\"would\" + 0.341*\"game\" + -0.303*\"peopl\" + 0.181*\"like\" + -0.173*\"get\" + -0.160*\"impost\" + 0.118*\"could\" + -0.115*\"friend\" + -0.108*\"time\"\n",
      "2020-11-04 22:35:14,352 [INFO] gensim.models.lsimodel - topic #4(56.323): 0.499*\"peopl\" + -0.385*\"play\" + -0.288*\"impost\" + 0.252*\"say\" + -0.197*\"friend\" + 0.190*\"server\" + 0.158*\"join\" + -0.147*\"would\" + 0.142*\"pleas\" + 0.133*\"fix\"\n",
      "2020-11-04 22:35:14,362 [INFO] gensim.topic_coherence.probability_estimation - using ParallelWordOccurrenceAccumulator(processes=7, batch_size=64) to estimate probabilities from sliding windows\n",
      "2020-11-04 22:35:22,472 [INFO] gensim.topic_coherence.text_analysis - 1 batches submitted to accumulate stats from 64 documents (318 virtual)\n",
      "2020-11-04 22:35:22,848 [INFO] gensim.topic_coherence.text_analysis - 7 accumulators retrieved from output queue\n",
      "2020-11-04 22:35:22,889 [INFO] gensim.topic_coherence.text_analysis - accumulated word occurrence stats for 2539 virtual documents\n",
      "2020-11-04 22:35:23,205 [INFO] gensim.models.lsimodel - using serial LSI version on this node\n",
      "2020-11-04 22:35:23,205 [INFO] gensim.models.lsimodel - updating model with new documents\n",
      "2020-11-04 22:35:23,205 [INFO] gensim.models.lsimodel - preparing a new chunk of documents\n",
      "2020-11-04 22:35:23,233 [INFO] gensim.models.lsimodel - using 100 extra samples and 2 power iterations\n",
      "2020-11-04 22:35:23,233 [INFO] gensim.models.lsimodel - 1st phase: constructing (4239, 109) action matrix\n",
      "2020-11-04 22:35:23,259 [INFO] gensim.models.lsimodel - orthonormalizing (4239, 109) action matrix\n",
      "2020-11-04 22:35:23,391 [INFO] gensim.models.lsimodel - 2nd phase: running dense svd on (109, 1637) matrix\n",
      "2020-11-04 22:35:23,422 [INFO] gensim.models.lsimodel - computing the final decomposition\n",
      "2020-11-04 22:35:23,422 [INFO] gensim.models.lsimodel - keeping 9 factors (discarding 42.272% of energy spectrum)\n",
      "2020-11-04 22:35:23,437 [INFO] gensim.models.lsimodel - processed documents up to #1637\n",
      "2020-11-04 22:35:23,437 [INFO] gensim.models.lsimodel - topic #0(244.371): -0.691*\"game\" + -0.266*\"play\" + -0.202*\"like\" + -0.198*\"peopl\" + -0.167*\"would\" + -0.152*\"friend\" + -0.150*\"get\" + -0.125*\"love\" + -0.123*\"realli\" + -0.122*\"impost\"\n",
      "2020-11-04 22:35:23,444 [INFO] gensim.models.lsimodel - topic #1(77.004): 0.568*\"game\" + -0.391*\"would\" + -0.373*\"like\" + -0.189*\"friend\" + -0.188*\"could\" + -0.175*\"add\" + -0.165*\"peopl\" + -0.147*\"impost\" + -0.143*\"think\" + -0.135*\"make\"\n",
      "2020-11-04 22:35:23,444 [INFO] gensim.models.lsimodel - topic #2(65.394): -0.631*\"impost\" + 0.442*\"friend\" + -0.253*\"get\" + 0.252*\"play\" + -0.222*\"kill\" + 0.163*\"would\" + -0.141*\"task\" + 0.122*\"add\" + -0.103*\"like\" + -0.099*\"crew\"\n",
      "2020-11-04 22:35:23,444 [INFO] gensim.models.lsimodel - topic #3(61.113): 0.633*\"play\" + -0.359*\"would\" + -0.341*\"game\" + 0.303*\"peopl\" + -0.181*\"like\" + 0.173*\"get\" + 0.160*\"impost\" + -0.118*\"could\" + 0.115*\"friend\" + 0.108*\"time\"\n",
      "2020-11-04 22:35:23,444 [INFO] gensim.models.lsimodel - topic #4(56.323): -0.500*\"peopl\" + 0.385*\"play\" + 0.288*\"impost\" + -0.253*\"say\" + 0.197*\"friend\" + -0.190*\"server\" + -0.158*\"join\" + 0.147*\"would\" + -0.142*\"pleas\" + -0.134*\"fix\"\n",
      "2020-11-04 22:35:23,444 [INFO] gensim.topic_coherence.probability_estimation - using ParallelWordOccurrenceAccumulator(processes=7, batch_size=64) to estimate probabilities from sliding windows\n",
      "2020-11-04 22:35:31,035 [INFO] gensim.topic_coherence.text_analysis - 1 batches submitted to accumulate stats from 64 documents (318 virtual)\n",
      "2020-11-04 22:35:31,432 [INFO] gensim.topic_coherence.text_analysis - 7 accumulators retrieved from output queue\n",
      "2020-11-04 22:35:31,483 [INFO] gensim.topic_coherence.text_analysis - accumulated word occurrence stats for 2539 virtual documents\n",
      "2020-11-04 22:35:31,847 [INFO] gensim.models.lsimodel - using serial LSI version on this node\n",
      "2020-11-04 22:35:31,855 [INFO] gensim.models.lsimodel - updating model with new documents\n",
      "2020-11-04 22:35:31,857 [INFO] gensim.models.lsimodel - preparing a new chunk of documents\n",
      "2020-11-04 22:35:31,877 [INFO] gensim.models.lsimodel - using 100 extra samples and 2 power iterations\n",
      "2020-11-04 22:35:31,877 [INFO] gensim.models.lsimodel - 1st phase: constructing (4239, 110) action matrix\n",
      "2020-11-04 22:35:31,905 [INFO] gensim.models.lsimodel - orthonormalizing (4239, 110) action matrix\n",
      "2020-11-04 22:35:32,078 [INFO] gensim.models.lsimodel - 2nd phase: running dense svd on (110, 1637) matrix\n",
      "2020-11-04 22:35:32,110 [INFO] gensim.models.lsimodel - computing the final decomposition\n",
      "2020-11-04 22:35:32,110 [INFO] gensim.models.lsimodel - keeping 10 factors (discarding 41.068% of energy spectrum)\n",
      "2020-11-04 22:35:32,116 [INFO] gensim.models.lsimodel - processed documents up to #1637\n",
      "2020-11-04 22:35:32,116 [INFO] gensim.models.lsimodel - topic #0(244.371): -0.691*\"game\" + -0.266*\"play\" + -0.202*\"like\" + -0.198*\"peopl\" + -0.167*\"would\" + -0.152*\"friend\" + -0.150*\"get\" + -0.125*\"love\" + -0.123*\"realli\" + -0.122*\"impost\"\n",
      "2020-11-04 22:35:32,116 [INFO] gensim.models.lsimodel - topic #1(77.004): 0.568*\"game\" + -0.391*\"would\" + -0.373*\"like\" + -0.189*\"friend\" + -0.188*\"could\" + -0.175*\"add\" + -0.165*\"peopl\" + -0.147*\"impost\" + -0.143*\"think\" + -0.135*\"make\"\n",
      "2020-11-04 22:35:32,116 [INFO] gensim.models.lsimodel - topic #2(65.394): -0.630*\"impost\" + 0.442*\"friend\" + -0.253*\"get\" + 0.252*\"play\" + -0.222*\"kill\" + 0.163*\"would\" + -0.141*\"task\" + 0.122*\"add\" + -0.103*\"like\" + -0.099*\"crew\"\n",
      "2020-11-04 22:35:32,116 [INFO] gensim.models.lsimodel - topic #3(61.113): -0.633*\"play\" + 0.359*\"would\" + 0.341*\"game\" + -0.303*\"peopl\" + 0.181*\"like\" + -0.173*\"get\" + -0.160*\"impost\" + 0.118*\"could\" + -0.115*\"friend\" + -0.108*\"time\"\n",
      "2020-11-04 22:35:32,116 [INFO] gensim.models.lsimodel - topic #4(56.323): 0.499*\"peopl\" + -0.385*\"play\" + -0.288*\"impost\" + 0.253*\"say\" + -0.197*\"friend\" + 0.190*\"server\" + 0.157*\"join\" + -0.147*\"would\" + 0.142*\"pleas\" + 0.133*\"fix\"\n",
      "2020-11-04 22:35:32,132 [INFO] gensim.topic_coherence.probability_estimation - using ParallelWordOccurrenceAccumulator(processes=7, batch_size=64) to estimate probabilities from sliding windows\n",
      "2020-11-04 22:35:39,663 [INFO] gensim.topic_coherence.text_analysis - 1 batches submitted to accumulate stats from 64 documents (318 virtual)\n",
      "2020-11-04 22:35:40,161 [INFO] gensim.topic_coherence.text_analysis - 7 accumulators retrieved from output queue\n",
      "2020-11-04 22:35:40,210 [INFO] gensim.topic_coherence.text_analysis - accumulated word occurrence stats for 2539 virtual documents\n",
      "2020-11-04 22:35:40,616 [INFO] gensim.models.lsimodel - using serial LSI version on this node\n",
      "2020-11-04 22:35:40,616 [INFO] gensim.models.lsimodel - updating model with new documents\n",
      "2020-11-04 22:35:40,616 [INFO] gensim.models.lsimodel - preparing a new chunk of documents\n",
      "2020-11-04 22:35:40,636 [INFO] gensim.models.lsimodel - using 100 extra samples and 2 power iterations\n",
      "2020-11-04 22:35:40,636 [INFO] gensim.models.lsimodel - 1st phase: constructing (4239, 111) action matrix\n",
      "2020-11-04 22:35:40,654 [INFO] gensim.models.lsimodel - orthonormalizing (4239, 111) action matrix\n",
      "2020-11-04 22:35:40,786 [INFO] gensim.models.lsimodel - 2nd phase: running dense svd on (111, 1637) matrix\n",
      "2020-11-04 22:35:40,817 [INFO] gensim.models.lsimodel - computing the final decomposition\n",
      "2020-11-04 22:35:40,817 [INFO] gensim.models.lsimodel - keeping 11 factors (discarding 39.971% of energy spectrum)\n",
      "2020-11-04 22:35:40,817 [INFO] gensim.models.lsimodel - processed documents up to #1637\n",
      "2020-11-04 22:35:40,817 [INFO] gensim.models.lsimodel - topic #0(244.371): -0.691*\"game\" + -0.266*\"play\" + -0.202*\"like\" + -0.198*\"peopl\" + -0.167*\"would\" + -0.152*\"friend\" + -0.150*\"get\" + -0.125*\"love\" + -0.123*\"realli\" + -0.122*\"impost\"\n",
      "2020-11-04 22:35:40,817 [INFO] gensim.models.lsimodel - topic #1(77.004): -0.568*\"game\" + 0.391*\"would\" + 0.373*\"like\" + 0.189*\"friend\" + 0.188*\"could\" + 0.175*\"add\" + 0.165*\"peopl\" + 0.147*\"impost\" + 0.143*\"think\" + 0.135*\"make\"\n"
     ]
    },
    {
     "name": "stderr",
     "output_type": "stream",
     "text": [
      "2020-11-04 22:35:40,817 [INFO] gensim.models.lsimodel - topic #2(65.394): -0.631*\"impost\" + 0.442*\"friend\" + -0.253*\"get\" + 0.252*\"play\" + -0.222*\"kill\" + 0.162*\"would\" + -0.141*\"task\" + 0.122*\"add\" + -0.103*\"like\" + -0.099*\"crew\"\n",
      "2020-11-04 22:35:40,833 [INFO] gensim.models.lsimodel - topic #3(61.113): -0.633*\"play\" + 0.359*\"would\" + 0.341*\"game\" + -0.303*\"peopl\" + 0.181*\"like\" + -0.173*\"get\" + -0.160*\"impost\" + 0.119*\"could\" + -0.115*\"friend\" + -0.108*\"time\"\n",
      "2020-11-04 22:35:40,833 [INFO] gensim.models.lsimodel - topic #4(56.323): -0.499*\"peopl\" + 0.385*\"play\" + 0.288*\"impost\" + -0.253*\"say\" + 0.197*\"friend\" + -0.190*\"server\" + -0.157*\"join\" + 0.147*\"would\" + -0.142*\"pleas\" + -0.133*\"fix\"\n",
      "2020-11-04 22:35:40,833 [INFO] gensim.topic_coherence.probability_estimation - using ParallelWordOccurrenceAccumulator(processes=7, batch_size=64) to estimate probabilities from sliding windows\n",
      "2020-11-04 22:35:48,917 [INFO] gensim.topic_coherence.text_analysis - 1 batches submitted to accumulate stats from 64 documents (318 virtual)\n",
      "2020-11-04 22:35:49,486 [INFO] gensim.topic_coherence.text_analysis - 7 accumulators retrieved from output queue\n",
      "2020-11-04 22:35:49,528 [INFO] gensim.topic_coherence.text_analysis - accumulated word occurrence stats for 2539 virtual documents\n"
     ]
    }
   ],
   "source": [
    "## testing what the optimum number of topics are\n",
    "start,stop,step=2,12,1\n",
    "\n",
    "clean_documents_list=split_sentence_to_words(good_reviews_clean)\n",
    "\n",
    "term_dictionary, doc_term_matrix = prepare_corpus(clean_documents_list)\n",
    "\n",
    "coherence_values = compute_coherence_values(term_dictionary, doc_term_matrix,clean_documents_list, start, stop, step)"
   ]
  },
  {
   "cell_type": "code",
   "execution_count": 39,
   "metadata": {},
   "outputs": [
    {
     "data": {
      "image/png": "[encoded data removed]",
      "text/plain": [
       "<Figure size 432x288 with 1 Axes>"
      ]
     },
     "metadata": {
      "needs_background": "light"
     },
     "output_type": "display_data"
    }
   ],
   "source": [
    "plot_graph(coherence_values,start,stop,step)"
   ]
  },
  {
   "cell_type": "code",
   "execution_count": 40,
   "metadata": {},
   "outputs": [
    {
     "name": "stderr",
     "output_type": "stream",
     "text": [
      "2020-11-04 22:38:11,128 [INFO] gensim.corpora.dictionary - adding document #0 to Dictionary(0 unique tokens: [])\n",
      "2020-11-04 22:38:11,445 [INFO] gensim.corpora.dictionary - built Dictionary(4239 unique tokens: ['accept', 'add', 'addict', 'alreadi', 'also']...) from 1637 documents (total 107514 corpus positions)\n",
      "2020-11-04 22:38:11,529 [INFO] gensim.models.lsimodel - using serial LSI version on this node\n",
      "2020-11-04 22:38:11,529 [INFO] gensim.models.lsimodel - updating model with new documents\n",
      "2020-11-04 22:38:11,529 [INFO] gensim.models.lsimodel - preparing a new chunk of documents\n",
      "2020-11-04 22:38:11,551 [INFO] gensim.models.lsimodel - using 100 extra samples and 2 power iterations\n",
      "2020-11-04 22:38:11,551 [INFO] gensim.models.lsimodel - 1st phase: constructing (4239, 103) action matrix\n",
      "2020-11-04 22:38:11,567 [INFO] gensim.models.lsimodel - orthonormalizing (4239, 103) action matrix\n",
      "2020-11-04 22:38:11,730 [INFO] gensim.models.lsimodel - 2nd phase: running dense svd on (103, 1637) matrix\n",
      "2020-11-04 22:38:11,764 [INFO] gensim.models.lsimodel - computing the final decomposition\n",
      "2020-11-04 22:38:11,764 [INFO] gensim.models.lsimodel - keeping 3 factors (discarding 53.052% of energy spectrum)\n",
      "2020-11-04 22:38:11,764 [INFO] gensim.models.lsimodel - processed documents up to #1637\n",
      "2020-11-04 22:38:11,772 [INFO] gensim.models.lsimodel - topic #0(244.371): -0.691*\"game\" + -0.266*\"play\" + -0.202*\"like\" + -0.198*\"peopl\" + -0.167*\"would\" + -0.152*\"friend\" + -0.150*\"get\" + -0.125*\"love\" + -0.123*\"realli\" + -0.122*\"impost\"\n",
      "2020-11-04 22:38:11,774 [INFO] gensim.models.lsimodel - topic #1(77.004): -0.568*\"game\" + 0.391*\"would\" + 0.373*\"like\" + 0.189*\"friend\" + 0.188*\"could\" + 0.175*\"add\" + 0.165*\"peopl\" + 0.147*\"impost\" + 0.143*\"think\" + 0.135*\"make\"\n",
      "2020-11-04 22:38:11,774 [INFO] gensim.models.lsimodel - topic #2(65.394): -0.630*\"impost\" + 0.442*\"friend\" + -0.253*\"get\" + 0.252*\"play\" + -0.222*\"kill\" + 0.162*\"would\" + -0.141*\"task\" + 0.122*\"add\" + -0.103*\"like\" + -0.099*\"crew\"\n",
      "2020-11-04 22:38:11,785 [INFO] gensim.models.lsimodel - topic #0(244.371): -0.691*\"game\" + -0.266*\"play\" + -0.202*\"like\" + -0.198*\"peopl\" + -0.167*\"would\" + -0.152*\"friend\" + -0.150*\"get\" + -0.125*\"love\" + -0.123*\"realli\" + -0.122*\"impost\"\n",
      "2020-11-04 22:38:11,785 [INFO] gensim.models.lsimodel - topic #1(77.004): -0.568*\"game\" + 0.391*\"would\" + 0.373*\"like\" + 0.189*\"friend\" + 0.188*\"could\" + 0.175*\"add\" + 0.165*\"peopl\" + 0.147*\"impost\" + 0.143*\"think\" + 0.135*\"make\"\n",
      "2020-11-04 22:38:11,785 [INFO] gensim.models.lsimodel - topic #2(65.394): -0.630*\"impost\" + 0.442*\"friend\" + -0.253*\"get\" + 0.252*\"play\" + -0.222*\"kill\" + 0.162*\"would\" + -0.141*\"task\" + 0.122*\"add\" + -0.103*\"like\" + -0.099*\"crew\"\n"
     ]
    },
    {
     "name": "stdout",
     "output_type": "stream",
     "text": [
      "[(0,\n",
      "  '-0.691*\"game\" + -0.266*\"play\" + -0.202*\"like\" + -0.198*\"peopl\" + '\n",
      "  '-0.167*\"would\" + -0.152*\"friend\" + -0.150*\"get\" + -0.125*\"love\" + '\n",
      "  '-0.123*\"realli\" + -0.122*\"impost\"'),\n",
      " (1,\n",
      "  '-0.568*\"game\" + 0.391*\"would\" + 0.373*\"like\" + 0.189*\"friend\" + '\n",
      "  '0.188*\"could\" + 0.175*\"add\" + 0.165*\"peopl\" + 0.147*\"impost\" + '\n",
      "  '0.143*\"think\" + 0.135*\"make\"'),\n",
      " (2,\n",
      "  '-0.630*\"impost\" + 0.442*\"friend\" + -0.253*\"get\" + 0.252*\"play\" + '\n",
      "  '-0.222*\"kill\" + 0.162*\"would\" + -0.141*\"task\" + 0.122*\"add\" + -0.103*\"like\" '\n",
      "  '+ -0.099*\"crew\"')]\n"
     ]
    }
   ],
   "source": [
    "number_of_topics=3\n",
    "words=10\n",
    "model=create_gensim_lsa_model(clean_documents_list,number_of_topics,words)\n",
    "pprint(model.print_topics(num_topics=number_of_topics, num_words=words))"
   ]
  },
  {
   "cell_type": "markdown",
   "metadata": {},
   "source": [
    "### For bad reviews"
   ]
  },
  {
   "cell_type": "code",
   "execution_count": 35,
   "metadata": {},
   "outputs": [
    {
     "name": "stderr",
     "output_type": "stream",
     "text": [
      "2020-11-04 22:15:32,966 [INFO] gensim.corpora.dictionary - adding document #0 to Dictionary(0 unique tokens: [])\n",
      "2020-11-04 22:15:33,050 [INFO] gensim.corpora.dictionary - built Dictionary(2373 unique tokens: ['abl', 'across', 'actual', 'allow', 'alreadi']...) from 363 documents (total 27464 corpus positions)\n",
      "2020-11-04 22:15:33,097 [INFO] gensim.models.lsimodel - using serial LSI version on this node\n",
      "2020-11-04 22:15:33,113 [INFO] gensim.models.lsimodel - updating model with new documents\n",
      "2020-11-04 22:15:33,113 [INFO] gensim.models.lsimodel - preparing a new chunk of documents\n",
      "2020-11-04 22:15:33,129 [INFO] gensim.models.lsimodel - using 100 extra samples and 2 power iterations\n",
      "2020-11-04 22:15:33,129 [INFO] gensim.models.lsimodel - 1st phase: constructing (2373, 102) action matrix\n",
      "2020-11-04 22:15:33,135 [INFO] gensim.models.lsimodel - orthonormalizing (2373, 102) action matrix\n",
      "2020-11-04 22:15:33,213 [INFO] gensim.models.lsimodel - 2nd phase: running dense svd on (102, 363) matrix\n",
      "2020-11-04 22:15:33,229 [INFO] gensim.models.lsimodel - computing the final decomposition\n",
      "2020-11-04 22:15:33,235 [INFO] gensim.models.lsimodel - keeping 2 factors (discarding 56.707% of energy spectrum)\n",
      "2020-11-04 22:15:33,235 [INFO] gensim.models.lsimodel - processed documents up to #363\n",
      "2020-11-04 22:15:33,235 [INFO] gensim.models.lsimodel - topic #0(133.468): -0.726*\"game\" + -0.295*\"play\" + -0.200*\"peopl\" + -0.188*\"get\" + -0.137*\"like\" + -0.123*\"time\" + -0.113*\"say\" + -0.105*\"impost\" + -0.103*\"would\" + -0.100*\"realli\"\n",
      "2020-11-04 22:15:33,235 [INFO] gensim.models.lsimodel - topic #1(36.773): 0.572*\"peopl\" + -0.423*\"game\" + 0.335*\"like\" + 0.317*\"impost\" + 0.154*\"also\" + 0.142*\"make\" + 0.115*\"kill\" + 0.110*\"thing\" + 0.088*\"vote\" + -0.084*\"work\"\n",
      "2020-11-04 22:15:33,235 [INFO] gensim.topic_coherence.probability_estimation - using ParallelWordOccurrenceAccumulator(processes=7, batch_size=64) to estimate probabilities from sliding windows\n",
      "2020-11-04 22:15:44,165 [INFO] gensim.topic_coherence.text_analysis - 7 accumulators retrieved from output queue\n",
      "2020-11-04 22:15:44,196 [INFO] gensim.topic_coherence.text_analysis - accumulated word occurrence stats for 645 virtual documents\n",
      "2020-11-04 22:15:44,346 [INFO] gensim.models.lsimodel - using serial LSI version on this node\n",
      "2020-11-04 22:15:44,348 [INFO] gensim.models.lsimodel - updating model with new documents\n",
      "2020-11-04 22:15:44,348 [INFO] gensim.models.lsimodel - preparing a new chunk of documents\n",
      "2020-11-04 22:15:44,348 [INFO] gensim.models.lsimodel - using 100 extra samples and 2 power iterations\n",
      "2020-11-04 22:15:44,356 [INFO] gensim.models.lsimodel - 1st phase: constructing (2373, 103) action matrix\n",
      "2020-11-04 22:15:44,356 [INFO] gensim.models.lsimodel - orthonormalizing (2373, 103) action matrix\n",
      "2020-11-04 22:15:44,419 [INFO] gensim.models.lsimodel - 2nd phase: running dense svd on (103, 363) matrix\n",
      "2020-11-04 22:15:44,439 [INFO] gensim.models.lsimodel - computing the final decomposition\n",
      "2020-11-04 22:15:44,439 [INFO] gensim.models.lsimodel - keeping 3 factors (discarding 54.114% of energy spectrum)\n",
      "2020-11-04 22:15:44,439 [INFO] gensim.models.lsimodel - processed documents up to #363\n",
      "2020-11-04 22:15:44,449 [INFO] gensim.models.lsimodel - topic #0(133.468): -0.726*\"game\" + -0.295*\"play\" + -0.200*\"peopl\" + -0.188*\"get\" + -0.137*\"like\" + -0.123*\"time\" + -0.113*\"say\" + -0.105*\"impost\" + -0.103*\"would\" + -0.100*\"realli\"\n",
      "2020-11-04 22:15:44,449 [INFO] gensim.models.lsimodel - topic #1(36.773): -0.572*\"peopl\" + 0.423*\"game\" + -0.335*\"like\" + -0.317*\"impost\" + -0.154*\"also\" + -0.143*\"make\" + -0.115*\"kill\" + -0.110*\"thing\" + -0.088*\"vote\" + 0.084*\"work\"\n",
      "2020-11-04 22:15:44,449 [INFO] gensim.models.lsimodel - topic #2(34.470): 0.562*\"play\" + -0.376*\"game\" + 0.369*\"get\" + -0.295*\"peopl\" + 0.220*\"time\" + 0.123*\"tri\" + 0.122*\"disconnect\" + 0.109*\"impost\" + 0.107*\"friend\" + 0.102*\"fix\"\n",
      "2020-11-04 22:15:44,449 [INFO] gensim.topic_coherence.probability_estimation - using ParallelWordOccurrenceAccumulator(processes=7, batch_size=64) to estimate probabilities from sliding windows\n",
      "2020-11-04 22:15:53,666 [INFO] gensim.topic_coherence.text_analysis - 7 accumulators retrieved from output queue\n",
      "2020-11-04 22:15:53,682 [INFO] gensim.topic_coherence.text_analysis - accumulated word occurrence stats for 645 virtual documents\n",
      "2020-11-04 22:15:53,867 [INFO] gensim.models.lsimodel - using serial LSI version on this node\n",
      "2020-11-04 22:15:53,867 [INFO] gensim.models.lsimodel - updating model with new documents\n",
      "2020-11-04 22:15:53,867 [INFO] gensim.models.lsimodel - preparing a new chunk of documents\n",
      "2020-11-04 22:15:53,867 [INFO] gensim.models.lsimodel - using 100 extra samples and 2 power iterations\n",
      "2020-11-04 22:15:53,867 [INFO] gensim.models.lsimodel - 1st phase: constructing (2373, 104) action matrix\n",
      "2020-11-04 22:15:53,883 [INFO] gensim.models.lsimodel - orthonormalizing (2373, 104) action matrix\n",
      "2020-11-04 22:15:53,936 [INFO] gensim.models.lsimodel - 2nd phase: running dense svd on (104, 363) matrix\n",
      "2020-11-04 22:15:53,952 [INFO] gensim.models.lsimodel - computing the final decomposition\n",
      "2020-11-04 22:15:53,952 [INFO] gensim.models.lsimodel - keeping 4 factors (discarding 52.068% of energy spectrum)\n",
      "2020-11-04 22:15:53,952 [INFO] gensim.models.lsimodel - processed documents up to #363\n",
      "2020-11-04 22:15:53,952 [INFO] gensim.models.lsimodel - topic #0(133.468): -0.726*\"game\" + -0.295*\"play\" + -0.200*\"peopl\" + -0.188*\"get\" + -0.137*\"like\" + -0.123*\"time\" + -0.113*\"say\" + -0.105*\"impost\" + -0.103*\"would\" + -0.100*\"realli\"\n",
      "2020-11-04 22:15:53,952 [INFO] gensim.models.lsimodel - topic #1(36.773): -0.572*\"peopl\" + 0.423*\"game\" + -0.335*\"like\" + -0.317*\"impost\" + -0.154*\"also\" + -0.142*\"make\" + -0.115*\"kill\" + -0.110*\"thing\" + -0.088*\"vote\" + 0.084*\"work\"\n",
      "2020-11-04 22:15:53,952 [INFO] gensim.models.lsimodel - topic #2(34.470): 0.561*\"play\" + -0.376*\"game\" + 0.369*\"get\" + -0.295*\"peopl\" + 0.220*\"time\" + 0.123*\"tri\" + 0.122*\"disconnect\" + 0.109*\"impost\" + 0.107*\"friend\" + 0.102*\"fix\"\n",
      "2020-11-04 22:15:53,952 [INFO] gensim.models.lsimodel - topic #3(31.084): 0.614*\"impost\" + -0.309*\"peopl\" + -0.302*\"play\" + 0.249*\"get\" + 0.171*\"game\" + -0.146*\"friend\" + 0.122*\"like\" + -0.117*\"would\" + -0.116*\"say\" + 0.109*\"time\"\n",
      "2020-11-04 22:15:53,968 [INFO] gensim.topic_coherence.probability_estimation - using ParallelWordOccurrenceAccumulator(processes=7, batch_size=64) to estimate probabilities from sliding windows\n",
      "2020-11-04 22:16:01,512 [INFO] gensim.topic_coherence.text_analysis - 7 accumulators retrieved from output queue\n",
      "2020-11-04 22:16:01,544 [INFO] gensim.topic_coherence.text_analysis - accumulated word occurrence stats for 645 virtual documents\n",
      "2020-11-04 22:16:01,729 [INFO] gensim.models.lsimodel - using serial LSI version on this node\n",
      "2020-11-04 22:16:01,729 [INFO] gensim.models.lsimodel - updating model with new documents\n",
      "2020-11-04 22:16:01,729 [INFO] gensim.models.lsimodel - preparing a new chunk of documents\n",
      "2020-11-04 22:16:01,729 [INFO] gensim.models.lsimodel - using 100 extra samples and 2 power iterations\n",
      "2020-11-04 22:16:01,744 [INFO] gensim.models.lsimodel - 1st phase: constructing (2373, 105) action matrix\n",
      "2020-11-04 22:16:01,751 [INFO] gensim.models.lsimodel - orthonormalizing (2373, 105) action matrix\n",
      "2020-11-04 22:16:01,813 [INFO] gensim.models.lsimodel - 2nd phase: running dense svd on (105, 363) matrix\n",
      "2020-11-04 22:16:01,829 [INFO] gensim.models.lsimodel - computing the final decomposition\n",
      "2020-11-04 22:16:01,829 [INFO] gensim.models.lsimodel - keeping 5 factors (discarding 50.245% of energy spectrum)\n",
      "2020-11-04 22:16:01,829 [INFO] gensim.models.lsimodel - processed documents up to #363\n",
      "2020-11-04 22:16:01,845 [INFO] gensim.models.lsimodel - topic #0(133.468): -0.726*\"game\" + -0.295*\"play\" + -0.200*\"peopl\" + -0.188*\"get\" + -0.137*\"like\" + -0.123*\"time\" + -0.113*\"say\" + -0.105*\"impost\" + -0.103*\"would\" + -0.100*\"realli\"\n",
      "2020-11-04 22:16:01,845 [INFO] gensim.models.lsimodel - topic #1(36.773): 0.572*\"peopl\" + -0.423*\"game\" + 0.335*\"like\" + 0.317*\"impost\" + 0.154*\"also\" + 0.142*\"make\" + 0.115*\"kill\" + 0.110*\"thing\" + 0.088*\"vote\" + -0.084*\"work\"\n",
      "2020-11-04 22:16:01,845 [INFO] gensim.models.lsimodel - topic #2(34.470): 0.562*\"play\" + -0.376*\"game\" + 0.369*\"get\" + -0.295*\"peopl\" + 0.220*\"time\" + 0.123*\"tri\" + 0.122*\"disconnect\" + 0.109*\"impost\" + 0.107*\"friend\" + 0.102*\"fix\"\n"
     ]
    },
    {
     "name": "stderr",
     "output_type": "stream",
     "text": [
      "2020-11-04 22:16:01,845 [INFO] gensim.models.lsimodel - topic #3(31.084): -0.614*\"impost\" + 0.309*\"peopl\" + 0.302*\"play\" + -0.249*\"get\" + -0.171*\"game\" + 0.146*\"friend\" + -0.122*\"like\" + 0.118*\"would\" + 0.116*\"say\" + -0.109*\"time\"\n",
      "2020-11-04 22:16:01,851 [INFO] gensim.models.lsimodel - topic #4(29.213): -0.470*\"play\" + 0.282*\"get\" + 0.269*\"would\" + 0.229*\"say\" + 0.209*\"us\" + 0.197*\"among\" + -0.192*\"peopl\" + 0.182*\"hack\" + 0.179*\"like\" + -0.169*\"game\"\n",
      "2020-11-04 22:16:01,851 [INFO] gensim.topic_coherence.probability_estimation - using ParallelWordOccurrenceAccumulator(processes=7, batch_size=64) to estimate probabilities from sliding windows\n",
      "2020-11-04 22:16:09,498 [INFO] gensim.topic_coherence.text_analysis - 7 accumulators retrieved from output queue\n",
      "2020-11-04 22:16:09,526 [INFO] gensim.topic_coherence.text_analysis - accumulated word occurrence stats for 645 virtual documents\n",
      "2020-11-04 22:16:09,760 [INFO] gensim.models.lsimodel - using serial LSI version on this node\n",
      "2020-11-04 22:16:09,760 [INFO] gensim.models.lsimodel - updating model with new documents\n",
      "2020-11-04 22:16:09,769 [INFO] gensim.models.lsimodel - preparing a new chunk of documents\n",
      "2020-11-04 22:16:09,769 [INFO] gensim.models.lsimodel - using 100 extra samples and 2 power iterations\n",
      "2020-11-04 22:16:09,769 [INFO] gensim.models.lsimodel - 1st phase: constructing (2373, 106) action matrix\n",
      "2020-11-04 22:16:09,779 [INFO] gensim.models.lsimodel - orthonormalizing (2373, 106) action matrix\n",
      "2020-11-04 22:16:09,857 [INFO] gensim.models.lsimodel - 2nd phase: running dense svd on (106, 363) matrix\n",
      "2020-11-04 22:16:09,872 [INFO] gensim.models.lsimodel - computing the final decomposition\n",
      "2020-11-04 22:16:09,872 [INFO] gensim.models.lsimodel - keeping 6 factors (discarding 48.738% of energy spectrum)\n",
      "2020-11-04 22:16:09,879 [INFO] gensim.models.lsimodel - processed documents up to #363\n",
      "2020-11-04 22:16:09,879 [INFO] gensim.models.lsimodel - topic #0(133.468): -0.726*\"game\" + -0.295*\"play\" + -0.200*\"peopl\" + -0.188*\"get\" + -0.137*\"like\" + -0.123*\"time\" + -0.113*\"say\" + -0.105*\"impost\" + -0.103*\"would\" + -0.100*\"realli\"\n",
      "2020-11-04 22:16:09,879 [INFO] gensim.models.lsimodel - topic #1(36.773): 0.572*\"peopl\" + -0.423*\"game\" + 0.335*\"like\" + 0.317*\"impost\" + 0.154*\"also\" + 0.142*\"make\" + 0.115*\"kill\" + 0.110*\"thing\" + 0.088*\"vote\" + -0.084*\"work\"\n",
      "2020-11-04 22:16:09,879 [INFO] gensim.models.lsimodel - topic #2(34.470): 0.561*\"play\" + -0.376*\"game\" + 0.369*\"get\" + -0.295*\"peopl\" + 0.220*\"time\" + 0.123*\"tri\" + 0.122*\"disconnect\" + 0.109*\"impost\" + 0.107*\"friend\" + 0.102*\"fix\"\n",
      "2020-11-04 22:16:09,879 [INFO] gensim.models.lsimodel - topic #3(31.084): -0.614*\"impost\" + 0.309*\"peopl\" + 0.302*\"play\" + -0.249*\"get\" + -0.171*\"game\" + 0.146*\"friend\" + -0.122*\"like\" + 0.117*\"would\" + 0.116*\"say\" + -0.109*\"time\"\n",
      "2020-11-04 22:16:09,879 [INFO] gensim.models.lsimodel - topic #4(29.213): 0.470*\"play\" + -0.281*\"get\" + -0.269*\"would\" + -0.229*\"say\" + -0.209*\"us\" + -0.197*\"among\" + 0.193*\"peopl\" + -0.182*\"hack\" + -0.179*\"like\" + 0.169*\"game\"\n",
      "2020-11-04 22:16:09,894 [INFO] gensim.topic_coherence.probability_estimation - using ParallelWordOccurrenceAccumulator(processes=7, batch_size=64) to estimate probabilities from sliding windows\n",
      "2020-11-04 22:16:17,361 [INFO] gensim.topic_coherence.text_analysis - 7 accumulators retrieved from output queue\n",
      "2020-11-04 22:16:17,392 [INFO] gensim.topic_coherence.text_analysis - accumulated word occurrence stats for 645 virtual documents\n",
      "2020-11-04 22:16:17,696 [INFO] gensim.models.lsimodel - using serial LSI version on this node\n",
      "2020-11-04 22:16:17,696 [INFO] gensim.models.lsimodel - updating model with new documents\n",
      "2020-11-04 22:16:17,696 [INFO] gensim.models.lsimodel - preparing a new chunk of documents\n",
      "2020-11-04 22:16:17,706 [INFO] gensim.models.lsimodel - using 100 extra samples and 2 power iterations\n",
      "2020-11-04 22:16:17,706 [INFO] gensim.models.lsimodel - 1st phase: constructing (2373, 107) action matrix\n",
      "2020-11-04 22:16:17,714 [INFO] gensim.models.lsimodel - orthonormalizing (2373, 107) action matrix\n",
      "2020-11-04 22:16:17,786 [INFO] gensim.models.lsimodel - 2nd phase: running dense svd on (107, 363) matrix\n",
      "2020-11-04 22:16:17,802 [INFO] gensim.models.lsimodel - computing the final decomposition\n",
      "2020-11-04 22:16:17,802 [INFO] gensim.models.lsimodel - keeping 7 factors (discarding 47.216% of energy spectrum)\n",
      "2020-11-04 22:16:17,802 [INFO] gensim.models.lsimodel - processed documents up to #363\n",
      "2020-11-04 22:16:17,802 [INFO] gensim.models.lsimodel - topic #0(133.468): -0.726*\"game\" + -0.295*\"play\" + -0.200*\"peopl\" + -0.188*\"get\" + -0.137*\"like\" + -0.123*\"time\" + -0.113*\"say\" + -0.105*\"impost\" + -0.103*\"would\" + -0.100*\"realli\"\n",
      "2020-11-04 22:16:17,802 [INFO] gensim.models.lsimodel - topic #1(36.773): 0.572*\"peopl\" + -0.423*\"game\" + 0.335*\"like\" + 0.317*\"impost\" + 0.154*\"also\" + 0.142*\"make\" + 0.115*\"kill\" + 0.110*\"thing\" + 0.088*\"vote\" + -0.084*\"work\"\n",
      "2020-11-04 22:16:17,818 [INFO] gensim.models.lsimodel - topic #2(34.470): -0.562*\"play\" + 0.376*\"game\" + -0.369*\"get\" + 0.295*\"peopl\" + -0.220*\"time\" + -0.123*\"tri\" + -0.122*\"disconnect\" + -0.109*\"impost\" + -0.107*\"friend\" + -0.102*\"fix\"\n",
      "2020-11-04 22:16:17,818 [INFO] gensim.models.lsimodel - topic #3(31.084): -0.614*\"impost\" + 0.309*\"peopl\" + 0.302*\"play\" + -0.249*\"get\" + -0.171*\"game\" + 0.146*\"friend\" + -0.122*\"like\" + 0.118*\"would\" + 0.116*\"say\" + -0.109*\"time\"\n",
      "2020-11-04 22:16:17,818 [INFO] gensim.models.lsimodel - topic #4(29.213): -0.470*\"play\" + 0.281*\"get\" + 0.269*\"would\" + 0.229*\"say\" + 0.209*\"us\" + 0.197*\"among\" + -0.193*\"peopl\" + 0.181*\"hack\" + 0.178*\"like\" + -0.169*\"game\"\n",
      "2020-11-04 22:16:17,824 [INFO] gensim.topic_coherence.probability_estimation - using ParallelWordOccurrenceAccumulator(processes=7, batch_size=64) to estimate probabilities from sliding windows\n",
      "2020-11-04 22:16:25,707 [INFO] gensim.topic_coherence.text_analysis - 7 accumulators retrieved from output queue\n",
      "2020-11-04 22:16:25,738 [INFO] gensim.topic_coherence.text_analysis - accumulated word occurrence stats for 645 virtual documents\n",
      "2020-11-04 22:16:26,161 [INFO] gensim.models.lsimodel - using serial LSI version on this node\n",
      "2020-11-04 22:16:26,161 [INFO] gensim.models.lsimodel - updating model with new documents\n",
      "2020-11-04 22:16:26,164 [INFO] gensim.models.lsimodel - preparing a new chunk of documents\n",
      "2020-11-04 22:16:26,172 [INFO] gensim.models.lsimodel - using 100 extra samples and 2 power iterations\n",
      "2020-11-04 22:16:26,172 [INFO] gensim.models.lsimodel - 1st phase: constructing (2373, 108) action matrix\n",
      "2020-11-04 22:16:26,182 [INFO] gensim.models.lsimodel - orthonormalizing (2373, 108) action matrix\n",
      "2020-11-04 22:16:26,244 [INFO] gensim.models.lsimodel - 2nd phase: running dense svd on (108, 363) matrix\n",
      "2020-11-04 22:16:26,260 [INFO] gensim.models.lsimodel - computing the final decomposition\n",
      "2020-11-04 22:16:26,260 [INFO] gensim.models.lsimodel - keeping 8 factors (discarding 45.991% of energy spectrum)\n",
      "2020-11-04 22:16:26,260 [INFO] gensim.models.lsimodel - processed documents up to #363\n",
      "2020-11-04 22:16:26,260 [INFO] gensim.models.lsimodel - topic #0(133.468): -0.726*\"game\" + -0.295*\"play\" + -0.200*\"peopl\" + -0.188*\"get\" + -0.137*\"like\" + -0.123*\"time\" + -0.113*\"say\" + -0.105*\"impost\" + -0.103*\"would\" + -0.100*\"realli\"\n",
      "2020-11-04 22:16:26,275 [INFO] gensim.models.lsimodel - topic #1(36.773): -0.572*\"peopl\" + 0.423*\"game\" + -0.335*\"like\" + -0.317*\"impost\" + -0.154*\"also\" + -0.142*\"make\" + -0.115*\"kill\" + -0.110*\"thing\" + -0.088*\"vote\" + 0.084*\"work\"\n",
      "2020-11-04 22:16:26,275 [INFO] gensim.models.lsimodel - topic #2(34.470): 0.562*\"play\" + -0.376*\"game\" + 0.369*\"get\" + -0.295*\"peopl\" + 0.220*\"time\" + 0.123*\"tri\" + 0.122*\"disconnect\" + 0.109*\"impost\" + 0.107*\"friend\" + 0.102*\"fix\"\n",
      "2020-11-04 22:16:26,275 [INFO] gensim.models.lsimodel - topic #3(31.084): -0.614*\"impost\" + 0.309*\"peopl\" + 0.302*\"play\" + -0.249*\"get\" + -0.171*\"game\" + 0.146*\"friend\" + -0.122*\"like\" + 0.118*\"would\" + 0.116*\"say\" + -0.109*\"time\"\n",
      "2020-11-04 22:16:26,275 [INFO] gensim.models.lsimodel - topic #4(29.213): -0.470*\"play\" + 0.281*\"get\" + 0.269*\"would\" + 0.229*\"say\" + 0.209*\"us\" + 0.197*\"among\" + -0.193*\"peopl\" + 0.182*\"hack\" + 0.179*\"like\" + -0.169*\"game\"\n",
      "2020-11-04 22:16:26,282 [INFO] gensim.topic_coherence.probability_estimation - using ParallelWordOccurrenceAccumulator(processes=7, batch_size=64) to estimate probabilities from sliding windows\n"
     ]
    },
    {
     "name": "stderr",
     "output_type": "stream",
     "text": [
      "2020-11-04 22:16:35,678 [INFO] gensim.topic_coherence.text_analysis - 7 accumulators retrieved from output queue\n",
      "2020-11-04 22:16:35,710 [INFO] gensim.topic_coherence.text_analysis - accumulated word occurrence stats for 645 virtual documents\n",
      "2020-11-04 22:16:36,186 [INFO] gensim.models.lsimodel - using serial LSI version on this node\n",
      "2020-11-04 22:16:36,186 [INFO] gensim.models.lsimodel - updating model with new documents\n",
      "2020-11-04 22:16:36,186 [INFO] gensim.models.lsimodel - preparing a new chunk of documents\n",
      "2020-11-04 22:16:36,202 [INFO] gensim.models.lsimodel - using 100 extra samples and 2 power iterations\n",
      "2020-11-04 22:16:36,202 [INFO] gensim.models.lsimodel - 1st phase: constructing (2373, 109) action matrix\n",
      "2020-11-04 22:16:36,218 [INFO] gensim.models.lsimodel - orthonormalizing (2373, 109) action matrix\n",
      "2020-11-04 22:16:36,318 [INFO] gensim.models.lsimodel - 2nd phase: running dense svd on (109, 363) matrix\n",
      "2020-11-04 22:16:36,334 [INFO] gensim.models.lsimodel - computing the final decomposition\n",
      "2020-11-04 22:16:36,340 [INFO] gensim.models.lsimodel - keeping 9 factors (discarding 44.778% of energy spectrum)\n",
      "2020-11-04 22:16:36,340 [INFO] gensim.models.lsimodel - processed documents up to #363\n",
      "2020-11-04 22:16:36,340 [INFO] gensim.models.lsimodel - topic #0(133.468): -0.726*\"game\" + -0.295*\"play\" + -0.200*\"peopl\" + -0.188*\"get\" + -0.137*\"like\" + -0.123*\"time\" + -0.113*\"say\" + -0.105*\"impost\" + -0.103*\"would\" + -0.100*\"realli\"\n",
      "2020-11-04 22:16:36,340 [INFO] gensim.models.lsimodel - topic #1(36.773): 0.572*\"peopl\" + -0.423*\"game\" + 0.335*\"like\" + 0.317*\"impost\" + 0.154*\"also\" + 0.142*\"make\" + 0.115*\"kill\" + 0.110*\"thing\" + 0.088*\"vote\" + -0.084*\"work\"\n",
      "2020-11-04 22:16:36,340 [INFO] gensim.models.lsimodel - topic #2(34.470): 0.562*\"play\" + -0.376*\"game\" + 0.369*\"get\" + -0.295*\"peopl\" + 0.220*\"time\" + 0.123*\"tri\" + 0.122*\"disconnect\" + 0.109*\"impost\" + 0.107*\"friend\" + 0.102*\"fix\"\n",
      "2020-11-04 22:16:36,340 [INFO] gensim.models.lsimodel - topic #3(31.084): -0.614*\"impost\" + 0.309*\"peopl\" + 0.302*\"play\" + -0.249*\"get\" + -0.171*\"game\" + 0.146*\"friend\" + -0.122*\"like\" + 0.118*\"would\" + 0.116*\"say\" + -0.109*\"time\"\n",
      "2020-11-04 22:16:36,340 [INFO] gensim.models.lsimodel - topic #4(29.213): -0.470*\"play\" + 0.281*\"get\" + 0.269*\"would\" + 0.228*\"say\" + 0.209*\"us\" + 0.197*\"among\" + -0.193*\"peopl\" + 0.182*\"hack\" + 0.179*\"like\" + -0.169*\"game\"\n",
      "2020-11-04 22:16:36,356 [INFO] gensim.topic_coherence.probability_estimation - using ParallelWordOccurrenceAccumulator(processes=7, batch_size=64) to estimate probabilities from sliding windows\n",
      "2020-11-04 22:16:45,614 [INFO] gensim.topic_coherence.text_analysis - 7 accumulators retrieved from output queue\n",
      "2020-11-04 22:16:45,647 [INFO] gensim.topic_coherence.text_analysis - accumulated word occurrence stats for 645 virtual documents\n",
      "2020-11-04 22:16:46,001 [INFO] gensim.models.lsimodel - using serial LSI version on this node\n",
      "2020-11-04 22:16:46,009 [INFO] gensim.models.lsimodel - updating model with new documents\n",
      "2020-11-04 22:16:46,009 [INFO] gensim.models.lsimodel - preparing a new chunk of documents\n",
      "2020-11-04 22:16:46,021 [INFO] gensim.models.lsimodel - using 100 extra samples and 2 power iterations\n",
      "2020-11-04 22:16:46,021 [INFO] gensim.models.lsimodel - 1st phase: constructing (2373, 110) action matrix\n",
      "2020-11-04 22:16:46,021 [INFO] gensim.models.lsimodel - orthonormalizing (2373, 110) action matrix\n",
      "2020-11-04 22:16:46,102 [INFO] gensim.models.lsimodel - 2nd phase: running dense svd on (110, 363) matrix\n",
      "2020-11-04 22:16:46,113 [INFO] gensim.models.lsimodel - computing the final decomposition\n",
      "2020-11-04 22:16:46,121 [INFO] gensim.models.lsimodel - keeping 10 factors (discarding 43.688% of energy spectrum)\n",
      "2020-11-04 22:16:46,123 [INFO] gensim.models.lsimodel - processed documents up to #363\n",
      "2020-11-04 22:16:46,123 [INFO] gensim.models.lsimodel - topic #0(133.468): -0.726*\"game\" + -0.295*\"play\" + -0.200*\"peopl\" + -0.188*\"get\" + -0.137*\"like\" + -0.123*\"time\" + -0.113*\"say\" + -0.105*\"impost\" + -0.103*\"would\" + -0.100*\"realli\"\n",
      "2020-11-04 22:16:46,123 [INFO] gensim.models.lsimodel - topic #1(36.773): 0.572*\"peopl\" + -0.423*\"game\" + 0.335*\"like\" + 0.317*\"impost\" + 0.154*\"also\" + 0.143*\"make\" + 0.115*\"kill\" + 0.110*\"thing\" + 0.088*\"vote\" + -0.084*\"work\"\n",
      "2020-11-04 22:16:46,131 [INFO] gensim.models.lsimodel - topic #2(34.470): 0.562*\"play\" + -0.376*\"game\" + 0.369*\"get\" + -0.295*\"peopl\" + 0.220*\"time\" + 0.123*\"tri\" + 0.122*\"disconnect\" + 0.109*\"impost\" + 0.107*\"friend\" + 0.102*\"fix\"\n",
      "2020-11-04 22:16:46,131 [INFO] gensim.models.lsimodel - topic #3(31.084): -0.614*\"impost\" + 0.309*\"peopl\" + 0.302*\"play\" + -0.249*\"get\" + -0.171*\"game\" + 0.146*\"friend\" + -0.122*\"like\" + 0.118*\"would\" + 0.116*\"say\" + -0.109*\"time\"\n",
      "2020-11-04 22:16:46,131 [INFO] gensim.models.lsimodel - topic #4(29.213): 0.470*\"play\" + -0.281*\"get\" + -0.269*\"would\" + -0.228*\"say\" + -0.209*\"us\" + -0.197*\"among\" + 0.192*\"peopl\" + -0.182*\"hack\" + -0.179*\"like\" + 0.169*\"game\"\n",
      "2020-11-04 22:16:46,131 [INFO] gensim.topic_coherence.probability_estimation - using ParallelWordOccurrenceAccumulator(processes=7, batch_size=64) to estimate probabilities from sliding windows\n",
      "2020-11-04 22:16:55,168 [INFO] gensim.topic_coherence.text_analysis - 7 accumulators retrieved from output queue\n",
      "2020-11-04 22:16:55,208 [INFO] gensim.topic_coherence.text_analysis - accumulated word occurrence stats for 645 virtual documents\n",
      "2020-11-04 22:16:55,745 [INFO] gensim.models.lsimodel - using serial LSI version on this node\n",
      "2020-11-04 22:16:55,745 [INFO] gensim.models.lsimodel - updating model with new documents\n",
      "2020-11-04 22:16:55,745 [INFO] gensim.models.lsimodel - preparing a new chunk of documents\n",
      "2020-11-04 22:16:55,763 [INFO] gensim.models.lsimodel - using 100 extra samples and 2 power iterations\n",
      "2020-11-04 22:16:55,765 [INFO] gensim.models.lsimodel - 1st phase: constructing (2373, 111) action matrix\n",
      "2020-11-04 22:16:55,773 [INFO] gensim.models.lsimodel - orthonormalizing (2373, 111) action matrix\n",
      "2020-11-04 22:16:55,845 [INFO] gensim.models.lsimodel - 2nd phase: running dense svd on (111, 363) matrix\n",
      "2020-11-04 22:16:55,861 [INFO] gensim.models.lsimodel - computing the final decomposition\n",
      "2020-11-04 22:16:55,861 [INFO] gensim.models.lsimodel - keeping 11 factors (discarding 42.642% of energy spectrum)\n",
      "2020-11-04 22:16:55,877 [INFO] gensim.models.lsimodel - processed documents up to #363\n",
      "2020-11-04 22:16:55,877 [INFO] gensim.models.lsimodel - topic #0(133.468): -0.726*\"game\" + -0.295*\"play\" + -0.200*\"peopl\" + -0.188*\"get\" + -0.137*\"like\" + -0.123*\"time\" + -0.113*\"say\" + -0.105*\"impost\" + -0.103*\"would\" + -0.100*\"realli\"\n",
      "2020-11-04 22:16:55,877 [INFO] gensim.models.lsimodel - topic #1(36.773): 0.572*\"peopl\" + -0.423*\"game\" + 0.335*\"like\" + 0.317*\"impost\" + 0.154*\"also\" + 0.143*\"make\" + 0.115*\"kill\" + 0.110*\"thing\" + 0.088*\"vote\" + -0.084*\"work\"\n",
      "2020-11-04 22:16:55,883 [INFO] gensim.models.lsimodel - topic #2(34.470): 0.562*\"play\" + -0.376*\"game\" + 0.369*\"get\" + -0.295*\"peopl\" + 0.220*\"time\" + 0.123*\"tri\" + 0.122*\"disconnect\" + 0.109*\"impost\" + 0.107*\"friend\" + 0.102*\"fix\"\n",
      "2020-11-04 22:16:55,883 [INFO] gensim.models.lsimodel - topic #3(31.084): 0.614*\"impost\" + -0.309*\"peopl\" + -0.302*\"play\" + 0.248*\"get\" + 0.171*\"game\" + -0.146*\"friend\" + 0.122*\"like\" + -0.117*\"would\" + -0.116*\"say\" + 0.109*\"time\"\n",
      "2020-11-04 22:16:55,883 [INFO] gensim.models.lsimodel - topic #4(29.213): -0.470*\"play\" + 0.281*\"get\" + 0.269*\"would\" + 0.229*\"say\" + 0.209*\"us\" + 0.197*\"among\" + -0.193*\"peopl\" + 0.182*\"hack\" + 0.179*\"like\" + -0.169*\"game\"\n",
      "2020-11-04 22:16:55,883 [INFO] gensim.topic_coherence.probability_estimation - using ParallelWordOccurrenceAccumulator(processes=7, batch_size=64) to estimate probabilities from sliding windows\n",
      "2020-11-04 22:17:04,574 [INFO] gensim.topic_coherence.text_analysis - 7 accumulators retrieved from output queue\n",
      "2020-11-04 22:17:04,605 [INFO] gensim.topic_coherence.text_analysis - accumulated word occurrence stats for 645 virtual documents\n"
     ]
    }
   ],
   "source": [
    "## getting optimum number of topics\n",
    "start,stop,step=2,12,1\n",
    "\n",
    "clean_documents_list=split_sentence_to_words(bad_reviews_clean)\n",
    "\n",
    "term_dictionary, doc_term_matrix = prepare_corpus(clean_documents_list)\n",
    "\n",
    "coherence_values = compute_coherence_values(term_dictionary, doc_term_matrix,clean_documents_list, start, stop, step)"
   ]
  },
  {
   "cell_type": "code",
   "execution_count": 36,
   "metadata": {},
   "outputs": [
    {
     "data": {
      "image/png": "[encoded data removed]",
      "text/plain": [
       "<Figure size 432x288 with 1 Axes>"
      ]
     },
     "metadata": {
      "needs_background": "light"
     },
     "output_type": "display_data"
    }
   ],
   "source": [
    "plot_graph(coherence_values,start,stop,step)"
   ]
  },
  {
   "cell_type": "code",
   "execution_count": 37,
   "metadata": {},
   "outputs": [
    {
     "name": "stderr",
     "output_type": "stream",
     "text": [
      "2020-11-04 22:19:46,088 [INFO] gensim.corpora.dictionary - adding document #0 to Dictionary(0 unique tokens: [])\n",
      "2020-11-04 22:19:46,182 [INFO] gensim.corpora.dictionary - built Dictionary(2373 unique tokens: ['abl', 'across', 'actual', 'allow', 'alreadi']...) from 363 documents (total 27464 corpus positions)\n",
      "2020-11-04 22:19:46,220 [INFO] gensim.models.lsimodel - using serial LSI version on this node\n",
      "2020-11-04 22:19:46,220 [INFO] gensim.models.lsimodel - updating model with new documents\n",
      "2020-11-04 22:19:46,220 [INFO] gensim.models.lsimodel - preparing a new chunk of documents\n",
      "2020-11-04 22:19:46,235 [INFO] gensim.models.lsimodel - using 100 extra samples and 2 power iterations\n",
      "2020-11-04 22:19:46,235 [INFO] gensim.models.lsimodel - 1st phase: constructing (2373, 104) action matrix\n",
      "2020-11-04 22:19:46,251 [INFO] gensim.models.lsimodel - orthonormalizing (2373, 104) action matrix\n",
      "2020-11-04 22:19:46,320 [INFO] gensim.models.lsimodel - 2nd phase: running dense svd on (104, 363) matrix\n",
      "2020-11-04 22:19:46,336 [INFO] gensim.models.lsimodel - computing the final decomposition\n",
      "2020-11-04 22:19:46,336 [INFO] gensim.models.lsimodel - keeping 4 factors (discarding 52.057% of energy spectrum)\n",
      "2020-11-04 22:19:46,336 [INFO] gensim.models.lsimodel - processed documents up to #363\n",
      "2020-11-04 22:19:46,336 [INFO] gensim.models.lsimodel - topic #0(133.468): -0.726*\"game\" + -0.295*\"play\" + -0.200*\"peopl\" + -0.188*\"get\" + -0.137*\"like\" + -0.123*\"time\" + -0.113*\"say\" + -0.105*\"impost\" + -0.103*\"would\" + -0.100*\"realli\"\n",
      "2020-11-04 22:19:46,351 [INFO] gensim.models.lsimodel - topic #1(36.773): -0.572*\"peopl\" + 0.423*\"game\" + -0.335*\"like\" + -0.317*\"impost\" + -0.154*\"also\" + -0.142*\"make\" + -0.115*\"kill\" + -0.110*\"thing\" + -0.088*\"vote\" + 0.084*\"work\"\n",
      "2020-11-04 22:19:46,351 [INFO] gensim.models.lsimodel - topic #2(34.470): 0.562*\"play\" + -0.376*\"game\" + 0.369*\"get\" + -0.295*\"peopl\" + 0.219*\"time\" + 0.123*\"tri\" + 0.122*\"disconnect\" + 0.109*\"impost\" + 0.107*\"friend\" + 0.102*\"fix\"\n",
      "2020-11-04 22:19:46,351 [INFO] gensim.models.lsimodel - topic #3(31.084): 0.614*\"impost\" + -0.309*\"peopl\" + -0.302*\"play\" + 0.249*\"get\" + 0.171*\"game\" + -0.146*\"friend\" + 0.122*\"like\" + -0.118*\"would\" + -0.116*\"say\" + 0.109*\"time\"\n",
      "2020-11-04 22:19:46,351 [INFO] gensim.models.lsimodel - topic #0(133.468): -0.726*\"game\" + -0.295*\"play\" + -0.200*\"peopl\" + -0.188*\"get\" + -0.137*\"like\" + -0.123*\"time\" + -0.113*\"say\" + -0.105*\"impost\" + -0.103*\"would\" + -0.100*\"realli\"\n",
      "2020-11-04 22:19:46,367 [INFO] gensim.models.lsimodel - topic #1(36.773): -0.572*\"peopl\" + 0.423*\"game\" + -0.335*\"like\" + -0.317*\"impost\" + -0.154*\"also\" + -0.142*\"make\" + -0.115*\"kill\" + -0.110*\"thing\" + -0.088*\"vote\" + 0.084*\"work\"\n",
      "2020-11-04 22:19:46,367 [INFO] gensim.models.lsimodel - topic #2(34.470): 0.562*\"play\" + -0.376*\"game\" + 0.369*\"get\" + -0.295*\"peopl\" + 0.219*\"time\" + 0.123*\"tri\" + 0.122*\"disconnect\" + 0.109*\"impost\" + 0.107*\"friend\" + 0.102*\"fix\"\n",
      "2020-11-04 22:19:46,367 [INFO] gensim.models.lsimodel - topic #3(31.084): 0.614*\"impost\" + -0.309*\"peopl\" + -0.302*\"play\" + 0.249*\"get\" + 0.171*\"game\" + -0.146*\"friend\" + 0.122*\"like\" + -0.118*\"would\" + -0.116*\"say\" + 0.109*\"time\"\n"
     ]
    },
    {
     "name": "stdout",
     "output_type": "stream",
     "text": [
      "[(0,\n",
      "  '-0.726*\"game\" + -0.295*\"play\" + -0.200*\"peopl\" + -0.188*\"get\" + '\n",
      "  '-0.137*\"like\" + -0.123*\"time\" + -0.113*\"say\" + -0.105*\"impost\" + '\n",
      "  '-0.103*\"would\" + -0.100*\"realli\"'),\n",
      " (1,\n",
      "  '-0.572*\"peopl\" + 0.423*\"game\" + -0.335*\"like\" + -0.317*\"impost\" + '\n",
      "  '-0.154*\"also\" + -0.142*\"make\" + -0.115*\"kill\" + -0.110*\"thing\" + '\n",
      "  '-0.088*\"vote\" + 0.084*\"work\"'),\n",
      " (2,\n",
      "  '0.562*\"play\" + -0.376*\"game\" + 0.369*\"get\" + -0.295*\"peopl\" + 0.219*\"time\" '\n",
      "  '+ 0.123*\"tri\" + 0.122*\"disconnect\" + 0.109*\"impost\" + 0.107*\"friend\" + '\n",
      "  '0.102*\"fix\"'),\n",
      " (3,\n",
      "  '0.614*\"impost\" + -0.309*\"peopl\" + -0.302*\"play\" + 0.249*\"get\" + '\n",
      "  '0.171*\"game\" + -0.146*\"friend\" + 0.122*\"like\" + -0.118*\"would\" + '\n",
      "  '-0.116*\"say\" + 0.109*\"time\"')]\n"
     ]
    }
   ],
   "source": [
    "number_of_topics=4\n",
    "words=10\n",
    "model=create_gensim_lsa_model(clean_documents_list,number_of_topics,words)\n",
    "pprint(model.print_topics(num_topics=number_of_topics, num_words=words))"
   ]
  }
 ],
 "metadata": {
  "kernelspec": {
   "display_name": "Python 3",
   "language": "python",
   "name": "python3"
  },
  "language_info": {
   "codemirror_mode": {
    "name": "ipython",
    "version": 3
   },
   "file_extension": ".py",
   "mimetype": "text/x-python",
   "name": "python",
   "nbconvert_exporter": "python",
   "pygments_lexer": "ipython3",
   "version": "3.7.4"
  }
 },
 "nbformat": 4,
 "nbformat_minor": 4
}
